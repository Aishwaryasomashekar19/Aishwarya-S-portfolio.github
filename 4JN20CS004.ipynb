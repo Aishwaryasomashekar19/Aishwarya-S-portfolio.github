{
  "cells": [
    {
      "cell_type": "markdown",
      "metadata": {
        "id": "LX78HrnQM5Xi"
      },
      "source": [
        " **Analytics on the dataset using Pyspark dataframes**"
      ]
    },
    {
      "cell_type": "code",
      "execution_count": 1,
      "metadata": {
        "colab": {
          "base_uri": "https://localhost:8080/"
        },
        "id": "x0FJ78yNLoF8",
        "outputId": "126c60ec-1180-4af1-ee0a-712fd4a967c7"
      },
      "outputs": [
        {
          "output_type": "stream",
          "name": "stdout",
          "text": [
            "Collecting pyspark\n",
            "  Downloading pyspark-3.5.1.tar.gz (317.0 MB)\n",
            "\u001b[2K     \u001b[90m━━━━━━━━━━━━━━━━━━━━━━━━━━━━━━━━━━━━━━━━\u001b[0m \u001b[32m317.0/317.0 MB\u001b[0m \u001b[31m2.3 MB/s\u001b[0m eta \u001b[36m0:00:00\u001b[0m\n",
            "\u001b[?25h  Preparing metadata (setup.py) ... \u001b[?25l\u001b[?25hdone\n",
            "Requirement already satisfied: py4j==0.10.9.7 in /usr/local/lib/python3.10/dist-packages (from pyspark) (0.10.9.7)\n",
            "Building wheels for collected packages: pyspark\n",
            "  Building wheel for pyspark (setup.py) ... \u001b[?25l\u001b[?25hdone\n",
            "  Created wheel for pyspark: filename=pyspark-3.5.1-py2.py3-none-any.whl size=317488491 sha256=565d2cc4136ddfdf93d8b8214349817fe07dab1962d56e44cfb31e82aa5407e7\n",
            "  Stored in directory: /root/.cache/pip/wheels/80/1d/60/2c256ed38dddce2fdd93be545214a63e02fbd8d74fb0b7f3a6\n",
            "Successfully built pyspark\n",
            "Installing collected packages: pyspark\n",
            "Successfully installed pyspark-3.5.1\n"
          ]
        }
      ],
      "source": [
        "!pip install pyspark"
      ]
    },
    {
      "cell_type": "markdown",
      "metadata": {
        "id": "QckIEu8EtSY2"
      },
      "source": [
        "**Aggregate functions**"
      ]
    },
    {
      "cell_type": "code",
      "execution_count": 2,
      "metadata": {
        "colab": {
          "base_uri": "https://localhost:8080/"
        },
        "id": "_alipjrWNGdy",
        "outputId": "bf6de484-e7e9-413c-b7ab-86ccc5e423d2"
      },
      "outputs": [
        {
          "output_type": "execute_result",
          "data": {
            "text/plain": [
              "1036"
            ]
          },
          "metadata": {},
          "execution_count": 2
        }
      ],
      "source": [
        "from pyspark.sql.session import SparkSession\n",
        "sess=SparkSession.builder.getOrCreate()\n",
        "camera=sess.read.csv('/content/sample_data/camera_dataset.csv',header=True)\n",
        "camera.count()"
      ]
    },
    {
      "cell_type": "code",
      "execution_count": 3,
      "metadata": {
        "id": "xnxc_MweNt4f",
        "colab": {
          "base_uri": "https://localhost:8080/"
        },
        "outputId": "260172a2-e270-4d12-8a73-2eebf16f421a"
      },
      "outputs": [
        {
          "output_type": "stream",
          "name": "stdout",
          "text": [
            "root\n",
            " |-- Model: string (nullable = true)\n",
            " |-- Release date: string (nullable = true)\n",
            " |-- Max resolution: string (nullable = true)\n",
            " |-- Low resolution: string (nullable = true)\n",
            " |-- Effective pixels: string (nullable = true)\n",
            " |-- Zoom wide (W): string (nullable = true)\n",
            " |-- Zoom tele (T): string (nullable = true)\n",
            " |-- Normal focus range: string (nullable = true)\n",
            " |-- Macro focus range: string (nullable = true)\n",
            " |-- Storage included: string (nullable = true)\n",
            " |-- Weight : string (nullable = true)\n",
            " |-- Dimensions: string (nullable = true)\n",
            " |-- Price: string (nullable = true)\n",
            "\n"
          ]
        }
      ],
      "source": [
        "camera.printSchema()"
      ]
    },
    {
      "cell_type": "code",
      "execution_count": 4,
      "metadata": {
        "colab": {
          "base_uri": "https://localhost:8080/"
        },
        "id": "OBp5jxYaN3op",
        "outputId": "79045ed0-ff0a-46e3-accd-2d6d2694a8cb"
      },
      "outputs": [
        {
          "output_type": "execute_result",
          "data": {
            "text/plain": [
              "['Model',\n",
              " 'Release date',\n",
              " 'Max resolution',\n",
              " 'Low resolution',\n",
              " 'Effective pixels',\n",
              " 'Zoom wide (W)',\n",
              " 'Zoom tele (T)',\n",
              " 'Normal focus range',\n",
              " 'Macro focus range',\n",
              " 'Storage included',\n",
              " 'Weight ',\n",
              " 'Dimensions',\n",
              " 'Price']"
            ]
          },
          "metadata": {},
          "execution_count": 4
        }
      ],
      "source": [
        "camera.columns"
      ]
    },
    {
      "cell_type": "code",
      "execution_count": 5,
      "metadata": {
        "colab": {
          "base_uri": "https://localhost:8080/"
        },
        "id": "kwWFWXA7OPZC",
        "outputId": "382f9bb6-97bb-4eb9-d023-b1d56031e20c"
      },
      "outputs": [
        {
          "output_type": "execute_result",
          "data": {
            "text/plain": [
              "14"
            ]
          },
          "metadata": {},
          "execution_count": 5
        }
      ],
      "source": [
        "#Finding Distinct product\n",
        "camera.select('Release date').distinct().count()\n"
      ]
    },
    {
      "cell_type": "code",
      "execution_count": 6,
      "metadata": {
        "colab": {
          "base_uri": "https://localhost:8080/"
        },
        "id": "ln0yRRCgQQuZ",
        "outputId": "a7dfa91a-249c-47fc-f6d1-4e8feb764df0"
      },
      "outputs": [
        {
          "output_type": "stream",
          "name": "stdout",
          "text": [
            "+------------+\n",
            "|Release date|\n",
            "+------------+\n",
            "|        2005|\n",
            "|        2000|\n",
            "|        2002|\n",
            "|        1995|\n",
            "|        2006|\n",
            "|        2004|\n",
            "|        1999|\n",
            "|        1994|\n",
            "|        1997|\n",
            "|        2007|\n",
            "|        1996|\n",
            "|        1998|\n",
            "|        2001|\n",
            "|        2003|\n",
            "+------------+\n",
            "\n"
          ]
        }
      ],
      "source": [
        "camera.select('Release date').distinct().show()"
      ]
    },
    {
      "cell_type": "code",
      "execution_count": 7,
      "metadata": {
        "colab": {
          "base_uri": "https://localhost:8080/"
        },
        "id": "M9GxyhLmQWdi",
        "outputId": "092581ff-5f4c-4262-e7aa-af5af2f98598"
      },
      "outputs": [
        {
          "output_type": "stream",
          "name": "stdout",
          "text": [
            "+--------------------+\n",
            "|               Model|\n",
            "+--------------------+\n",
            "|    Pentax Optio S60|\n",
            "|         Samsung S85|\n",
            "|Casio Exilim EX-S500|\n",
            "|   Sony Mavica FD-95|\n",
            "|        Olympus E-10|\n",
            "|     Ricoh Caplio R2|\n",
            "|    Agfa ePhoto CL50|\n",
            "|  Nikon Coolpix 7600|\n",
            "|  Leica Digilux Zoom|\n",
            "|           Sigma DP1|\n",
            "|            Nikon D1|\n",
            "|    Nikon Coolpix L2|\n",
            "|        Kodak CX6230|\n",
            "|        Sony DSC-T30|\n",
            "|  Kyocera Finecam S3|\n",
            "|       Olympus D-425|\n",
            "|          Kodak Z710|\n",
            "|    Pentax Optio S55|\n",
            "|       Sony DSC-P100|\n",
            "|Fujifilm FinePix ...|\n",
            "|Fujifilm FinePix ...|\n",
            "| Casio Exilim EX-Z57|\n",
            "|       Olympus E-330|\n",
            "|        Samsung S730|\n",
            "|      Olympus FE-300|\n",
            "| Canon PowerShot A70|\n",
            "|Canon PowerShot A420|\n",
            "| Fujifilm FinePix Z1|\n",
            "|Canon PowerShot P...|\n",
            "|    Pentax Optio A10|\n",
            "|        Sony DSC-T20|\n",
            "|   Sony Mavica CD200|\n",
            "|     Ricoh Caplio R3|\n",
            "|       Kodak DCS 14n|\n",
            "|Fujifilm FinePix ...|\n",
            "|Canon PowerShot S230|\n",
            "|Canon PowerShot S330|\n",
            "|     Leica Digilux 1|\n",
            "|   Olympus C-60 Zoom|\n",
            "|       Pentax *ist D|\n",
            "|        Casio QV-700|\n",
            "|    Pentax Optio W20|\n",
            "|        Samsung S830|\n",
            "|        Kodak CX7330|\n",
            "|Canon PowerShot A430|\n",
            "|        Sony DSC-U40|\n",
            "|    Pentax Optio S4i|\n",
            "|Fujifilm FinePix ...|\n",
            "|  HP Photosmart R817|\n",
            "|  Nikon Coolpix S51c|\n",
            "+--------------------+\n",
            "only showing top 50 rows\n",
            "\n"
          ]
        }
      ],
      "source": [
        "camera.select('Model').distinct().show(50)\n"
      ]
    },
    {
      "cell_type": "code",
      "execution_count": 8,
      "metadata": {
        "id": "sfz9brXSQjZu",
        "colab": {
          "base_uri": "https://localhost:8080/"
        },
        "outputId": "783add9a-3f8f-4b29-e5cb-c49046f7b9cd"
      },
      "outputs": [
        {
          "output_type": "stream",
          "name": "stdout",
          "text": [
            "+-------+-----------------+\n",
            "|summary|            Price|\n",
            "+-------+-----------------+\n",
            "|  count|             1036|\n",
            "|   mean|457.9218146718147|\n",
            "| stddev|  761.08873495814|\n",
            "|    min|              119|\n",
            "|    max|               99|\n",
            "+-------+-----------------+\n",
            "\n"
          ]
        }
      ],
      "source": [
        "#Get the descriptive stat of price column\n",
        "camera.select('Price').describe().show()\n"
      ]
    },
    {
      "cell_type": "code",
      "execution_count": 9,
      "metadata": {
        "id": "Dnk2bpbPQ2wN",
        "colab": {
          "base_uri": "https://localhost:8080/"
        },
        "outputId": "2f6ac4a9-885a-4162-9df9-a46267198503"
      },
      "outputs": [
        {
          "output_type": "stream",
          "name": "stdout",
          "text": [
            "root\n",
            " |-- Model: string (nullable = true)\n",
            " |-- Release date: integer (nullable = true)\n",
            " |-- Max resolution: integer (nullable = true)\n",
            " |-- Low resolution: integer (nullable = true)\n",
            " |-- Effective pixels: integer (nullable = true)\n",
            " |-- Zoom wide (W): integer (nullable = true)\n",
            " |-- Zoom tele (T): integer (nullable = true)\n",
            " |-- Normal focus range: integer (nullable = true)\n",
            " |-- Macro focus range: integer (nullable = true)\n",
            " |-- Storage included: integer (nullable = true)\n",
            " |-- Weight : integer (nullable = true)\n",
            " |-- Dimensions: integer (nullable = true)\n",
            " |-- Price: integer (nullable = true)\n",
            "\n"
          ]
        }
      ],
      "source": [
        "import pyspark.sql.types as typ\n",
        "labels=[\n",
        "  ('Model',typ.StringType()),\n",
        " ('Release date',typ.IntegerType()),\n",
        " ('Max resolution',typ.IntegerType()),\n",
        " ('Low resolution',typ.IntegerType()),\n",
        " ('Effective pixels',typ.IntegerType()),\n",
        " ('Zoom wide (W)',typ.IntegerType()),\n",
        " ('Zoom tele (T)',typ.IntegerType()),\n",
        " ('Normal focus range',typ.IntegerType()),\n",
        " ('Macro focus range',typ.IntegerType()),\n",
        " ('Storage included',typ.IntegerType()),\n",
        " ('Weight ',typ.IntegerType()),\n",
        " ('Dimensions',typ.IntegerType()),\n",
        " ('Price',typ.IntegerType()),\n",
        "]\n",
        "s=typ.StructType( [typ.StructField(e[0],e[1],False) for e in labels ])\n",
        "camera=sess.read.csv('/content/sample_data/camera_dataset.csv',header=True,schema=s)\n",
        "camera.printSchema()"
      ]
    },
    {
      "cell_type": "code",
      "execution_count": 10,
      "metadata": {
        "id": "NG0sAGS-TOPC",
        "colab": {
          "base_uri": "https://localhost:8080/"
        },
        "outputId": "483ec11a-4033-4a42-c77d-cf21a698e885"
      },
      "outputs": [
        {
          "output_type": "stream",
          "name": "stdout",
          "text": [
            "+-------+-----------------+\n",
            "|summary|            Price|\n",
            "+-------+-----------------+\n",
            "|  count|             1036|\n",
            "|   mean|457.9218146718147|\n",
            "| stddev|  761.08873495814|\n",
            "|    min|               14|\n",
            "|    max|             7999|\n",
            "+-------+-----------------+\n",
            "\n"
          ]
        }
      ],
      "source": [
        "#Get the descriptive stat of price column after changing the datatypes\n",
        "camera.select('Price').describe().show()"
      ]
    },
    {
      "cell_type": "code",
      "execution_count": 11,
      "metadata": {
        "id": "kA3HjUEITY4m",
        "colab": {
          "base_uri": "https://localhost:8080/"
        },
        "outputId": "2854e424-c264-4c7d-a545-f23cbf8e1e3c"
      },
      "outputs": [
        {
          "output_type": "stream",
          "name": "stdout",
          "text": [
            "+------------+-----+\n",
            "|Release date|count|\n",
            "+------------+-----+\n",
            "|        2003|  101|\n",
            "|        2007|  162|\n",
            "|        2006|  152|\n",
            "|        1997|   11|\n",
            "|        1994|    1|\n",
            "|        2004|  141|\n",
            "|        1996|    4|\n",
            "|        1998|   32|\n",
            "|        1995|    1|\n",
            "|        2001|   85|\n",
            "|        2005|  143|\n",
            "|        2000|   61|\n",
            "|        1999|   53|\n",
            "|        2002|   89|\n",
            "+------------+-----+\n",
            "\n"
          ]
        }
      ],
      "source": [
        "#count the number of records of each  Release group\n",
        "camera.groupby('Release date').count().show()"
      ]
    },
    {
      "cell_type": "code",
      "execution_count": 12,
      "metadata": {
        "colab": {
          "base_uri": "https://localhost:8080/"
        },
        "id": "aEdz-Inpd0ym",
        "outputId": "b7200f00-2858-4c64-e987-2a3133782443"
      },
      "outputs": [
        {
          "output_type": "execute_result",
          "data": {
            "text/plain": [
              "13"
            ]
          },
          "metadata": {},
          "execution_count": 12
        }
      ],
      "source": [
        "len(camera.columns)"
      ]
    },
    {
      "cell_type": "code",
      "execution_count": 13,
      "metadata": {
        "colab": {
          "base_uri": "https://localhost:8080/"
        },
        "id": "ZLg0WxKidkWg",
        "outputId": "c617067a-74ef-4f68-9d51-fb44fb27d20c"
      },
      "outputs": [
        {
          "output_type": "execute_result",
          "data": {
            "text/plain": [
              "['Model',\n",
              " 'Release date',\n",
              " 'Max resolution',\n",
              " 'Low resolution',\n",
              " 'Effective pixels',\n",
              " 'Zoom wide (W)',\n",
              " 'Zoom tele (T)',\n",
              " 'Normal focus range',\n",
              " 'Macro focus range',\n",
              " 'Storage included',\n",
              " 'Weight ',\n",
              " 'Dimensions',\n",
              " 'Price',\n",
              " 'gst_pa']"
            ]
          },
          "metadata": {},
          "execution_count": 13
        }
      ],
      "source": [
        "#adding a new column to data frame with 'with' function\n",
        "camera=camera.withColumn('gst_pa',camera.Price*1.18)\n",
        "camera.columns"
      ]
    },
    {
      "cell_type": "code",
      "execution_count": 14,
      "metadata": {
        "colab": {
          "base_uri": "https://localhost:8080/"
        },
        "id": "LGDIQ0ZReNM-",
        "outputId": "c878dbdc-0562-4652-d5df-3a6ec24c227f"
      },
      "outputs": [
        {
          "output_type": "stream",
          "name": "stdout",
          "text": [
            "+-----+------------------+\n",
            "|Price|            gst_pa|\n",
            "+-----+------------------+\n",
            "|   14|             16.52|\n",
            "|   14|             16.52|\n",
            "|   19|22.419999999999998|\n",
            "|   19|22.419999999999998|\n",
            "|   62|             73.16|\n",
            "|   62|             73.16|\n",
            "|   62|             73.16|\n",
            "|   62|             73.16|\n",
            "|   62|             73.16|\n",
            "|   62|             73.16|\n",
            "|   62|             73.16|\n",
            "|   62|             73.16|\n",
            "|   62|             73.16|\n",
            "|   62|             73.16|\n",
            "|   99|            116.82|\n",
            "|   99|            116.82|\n",
            "|   99|            116.82|\n",
            "|   99|            116.82|\n",
            "|   99|            116.82|\n",
            "|   99|            116.82|\n",
            "+-----+------------------+\n",
            "only showing top 20 rows\n",
            "\n"
          ]
        }
      ],
      "source": [
        "camera.select('Price','gst_pa').show()"
      ]
    },
    {
      "cell_type": "code",
      "execution_count": 15,
      "metadata": {
        "colab": {
          "base_uri": "https://localhost:8080/"
        },
        "id": "kZnZ560EeZn5",
        "outputId": "aceab6a6-4546-430f-9b55-924ffd6ae812"
      },
      "outputs": [
        {
          "output_type": "execute_result",
          "data": {
            "text/plain": [
              "['Model',\n",
              " 'Release date',\n",
              " 'Max resolution',\n",
              " 'Low resolution',\n",
              " 'Effective pixels',\n",
              " 'Zoom wide (W)',\n",
              " 'Zoom tele (T)',\n",
              " 'Normal focus range',\n",
              " 'Macro focus range',\n",
              " 'Storage included',\n",
              " 'Weight ',\n",
              " 'Dimensions',\n",
              " 'Price']"
            ]
          },
          "metadata": {},
          "execution_count": 15
        }
      ],
      "source": [
        "#dropping columns using drop function\n",
        "camera=camera.drop('gst_pa')\n",
        "camera.columns"
      ]
    },
    {
      "cell_type": "code",
      "execution_count": 16,
      "metadata": {
        "colab": {
          "base_uri": "https://localhost:8080/"
        },
        "id": "dj8pARsmyItH",
        "outputId": "2fd3f01c-4984-4cdc-e73c-b8ee6d9552f6"
      },
      "outputs": [
        {
          "output_type": "stream",
          "name": "stdout",
          "text": [
            "root\n",
            " |-- Model: string (nullable = true)\n",
            " |-- Release date: integer (nullable = true)\n",
            " |-- Max resolution: integer (nullable = true)\n",
            " |-- Low resolution: integer (nullable = true)\n",
            " |-- Effective pixels: integer (nullable = true)\n",
            " |-- Zoom wide (W): integer (nullable = true)\n",
            " |-- Zoom tele (T): integer (nullable = true)\n",
            " |-- Normal focus range: integer (nullable = true)\n",
            " |-- Macro focus range: integer (nullable = true)\n",
            " |-- Storage included: integer (nullable = true)\n",
            " |-- Weight : integer (nullable = true)\n",
            " |-- Dimensions: double (nullable = true)\n",
            " |-- Price: integer (nullable = true)\n",
            "\n"
          ]
        }
      ],
      "source": [
        "#create spark session and read csv to create data frame\n",
        "from pyspark.sql import SparkSession\n",
        "spark=SparkSession.builder.getOrCreate()\n",
        "df=spark.read.csv('/content/sample_data/camera_dataset.csv',header=True,inferSchema=True)\n",
        "df.printSchema()"
      ]
    },
    {
      "cell_type": "code",
      "execution_count": 17,
      "metadata": {
        "colab": {
          "base_uri": "https://localhost:8080/",
          "height": 571
        },
        "id": "mJjZcJG304AN",
        "outputId": "916aaac1-8cf1-41e9-c5de-3d2b5701d171"
      },
      "outputs": [
        {
          "output_type": "execute_result",
          "data": {
            "text/plain": [
              "             Model  Release date  Max resolution  Low resolution  \\\n",
              "0     JVC GC-QX3HD          2001            2032            1024   \n",
              "1     JVC GC-QX5HD          2001            2032            1024   \n",
              "2       Sigma SD14          2006            2640            1776   \n",
              "3        Sigma SD9          2002            2268            1134   \n",
              "4  Toshiba PDR-M71          2001            2048            1024   \n",
              "5  Toshiba PDR-M81          2001            2400            1200   \n",
              "6   Toshiba PDR-M4          1999            1600             800   \n",
              "7  Toshiba PDR-M11          2001            1280             640   \n",
              "8  Toshiba PDR-M70          2000            2048            1024   \n",
              "9  Toshiba PDR-M65          2001            2048            1024   \n",
              "\n",
              "   Effective pixels  Zoom wide (W)  Zoom tele (T)  Normal focus range  \\\n",
              "0                 3             37             86                  50   \n",
              "1                 3             37             86                  50   \n",
              "2                 4              0              0                   0   \n",
              "3                 3              0              0                   0   \n",
              "4                 3             35             98                  80   \n",
              "5                 3             35             98                  80   \n",
              "6                 1             40             40                  50   \n",
              "7                 1             52             52                  90   \n",
              "8                 3             35            105                  80   \n",
              "9                 3             38            114                  10   \n",
              "\n",
              "   Macro focus range  Storage included  Weight   Dimensions  Price  \n",
              "0                  2                 8      320       111.0     14  \n",
              "1                  2                16      320       111.0     14  \n",
              "2                  0                 0      750       144.0     19  \n",
              "3                  0                 0      950       152.0     19  \n",
              "4                 10                 8      340       107.0     62  \n",
              "5                 10                16      340       107.0     62  \n",
              "6                 10                 8      290       112.0     62  \n",
              "7                  0                 8      240       116.0     62  \n",
              "8                  9                16      390       116.0     62  \n",
              "9                 10                 8      320       120.0     62  "
            ],
            "text/html": [
              "\n",
              "  <div id=\"df-4de3aeaa-b392-4cba-a6f7-2ab6ba640aa5\" class=\"colab-df-container\">\n",
              "    <div>\n",
              "<style scoped>\n",
              "    .dataframe tbody tr th:only-of-type {\n",
              "        vertical-align: middle;\n",
              "    }\n",
              "\n",
              "    .dataframe tbody tr th {\n",
              "        vertical-align: top;\n",
              "    }\n",
              "\n",
              "    .dataframe thead th {\n",
              "        text-align: right;\n",
              "    }\n",
              "</style>\n",
              "<table border=\"1\" class=\"dataframe\">\n",
              "  <thead>\n",
              "    <tr style=\"text-align: right;\">\n",
              "      <th></th>\n",
              "      <th>Model</th>\n",
              "      <th>Release date</th>\n",
              "      <th>Max resolution</th>\n",
              "      <th>Low resolution</th>\n",
              "      <th>Effective pixels</th>\n",
              "      <th>Zoom wide (W)</th>\n",
              "      <th>Zoom tele (T)</th>\n",
              "      <th>Normal focus range</th>\n",
              "      <th>Macro focus range</th>\n",
              "      <th>Storage included</th>\n",
              "      <th>Weight</th>\n",
              "      <th>Dimensions</th>\n",
              "      <th>Price</th>\n",
              "    </tr>\n",
              "  </thead>\n",
              "  <tbody>\n",
              "    <tr>\n",
              "      <th>0</th>\n",
              "      <td>JVC GC-QX3HD</td>\n",
              "      <td>2001</td>\n",
              "      <td>2032</td>\n",
              "      <td>1024</td>\n",
              "      <td>3</td>\n",
              "      <td>37</td>\n",
              "      <td>86</td>\n",
              "      <td>50</td>\n",
              "      <td>2</td>\n",
              "      <td>8</td>\n",
              "      <td>320</td>\n",
              "      <td>111.0</td>\n",
              "      <td>14</td>\n",
              "    </tr>\n",
              "    <tr>\n",
              "      <th>1</th>\n",
              "      <td>JVC GC-QX5HD</td>\n",
              "      <td>2001</td>\n",
              "      <td>2032</td>\n",
              "      <td>1024</td>\n",
              "      <td>3</td>\n",
              "      <td>37</td>\n",
              "      <td>86</td>\n",
              "      <td>50</td>\n",
              "      <td>2</td>\n",
              "      <td>16</td>\n",
              "      <td>320</td>\n",
              "      <td>111.0</td>\n",
              "      <td>14</td>\n",
              "    </tr>\n",
              "    <tr>\n",
              "      <th>2</th>\n",
              "      <td>Sigma SD14</td>\n",
              "      <td>2006</td>\n",
              "      <td>2640</td>\n",
              "      <td>1776</td>\n",
              "      <td>4</td>\n",
              "      <td>0</td>\n",
              "      <td>0</td>\n",
              "      <td>0</td>\n",
              "      <td>0</td>\n",
              "      <td>0</td>\n",
              "      <td>750</td>\n",
              "      <td>144.0</td>\n",
              "      <td>19</td>\n",
              "    </tr>\n",
              "    <tr>\n",
              "      <th>3</th>\n",
              "      <td>Sigma SD9</td>\n",
              "      <td>2002</td>\n",
              "      <td>2268</td>\n",
              "      <td>1134</td>\n",
              "      <td>3</td>\n",
              "      <td>0</td>\n",
              "      <td>0</td>\n",
              "      <td>0</td>\n",
              "      <td>0</td>\n",
              "      <td>0</td>\n",
              "      <td>950</td>\n",
              "      <td>152.0</td>\n",
              "      <td>19</td>\n",
              "    </tr>\n",
              "    <tr>\n",
              "      <th>4</th>\n",
              "      <td>Toshiba PDR-M71</td>\n",
              "      <td>2001</td>\n",
              "      <td>2048</td>\n",
              "      <td>1024</td>\n",
              "      <td>3</td>\n",
              "      <td>35</td>\n",
              "      <td>98</td>\n",
              "      <td>80</td>\n",
              "      <td>10</td>\n",
              "      <td>8</td>\n",
              "      <td>340</td>\n",
              "      <td>107.0</td>\n",
              "      <td>62</td>\n",
              "    </tr>\n",
              "    <tr>\n",
              "      <th>5</th>\n",
              "      <td>Toshiba PDR-M81</td>\n",
              "      <td>2001</td>\n",
              "      <td>2400</td>\n",
              "      <td>1200</td>\n",
              "      <td>3</td>\n",
              "      <td>35</td>\n",
              "      <td>98</td>\n",
              "      <td>80</td>\n",
              "      <td>10</td>\n",
              "      <td>16</td>\n",
              "      <td>340</td>\n",
              "      <td>107.0</td>\n",
              "      <td>62</td>\n",
              "    </tr>\n",
              "    <tr>\n",
              "      <th>6</th>\n",
              "      <td>Toshiba PDR-M4</td>\n",
              "      <td>1999</td>\n",
              "      <td>1600</td>\n",
              "      <td>800</td>\n",
              "      <td>1</td>\n",
              "      <td>40</td>\n",
              "      <td>40</td>\n",
              "      <td>50</td>\n",
              "      <td>10</td>\n",
              "      <td>8</td>\n",
              "      <td>290</td>\n",
              "      <td>112.0</td>\n",
              "      <td>62</td>\n",
              "    </tr>\n",
              "    <tr>\n",
              "      <th>7</th>\n",
              "      <td>Toshiba PDR-M11</td>\n",
              "      <td>2001</td>\n",
              "      <td>1280</td>\n",
              "      <td>640</td>\n",
              "      <td>1</td>\n",
              "      <td>52</td>\n",
              "      <td>52</td>\n",
              "      <td>90</td>\n",
              "      <td>0</td>\n",
              "      <td>8</td>\n",
              "      <td>240</td>\n",
              "      <td>116.0</td>\n",
              "      <td>62</td>\n",
              "    </tr>\n",
              "    <tr>\n",
              "      <th>8</th>\n",
              "      <td>Toshiba PDR-M70</td>\n",
              "      <td>2000</td>\n",
              "      <td>2048</td>\n",
              "      <td>1024</td>\n",
              "      <td>3</td>\n",
              "      <td>35</td>\n",
              "      <td>105</td>\n",
              "      <td>80</td>\n",
              "      <td>9</td>\n",
              "      <td>16</td>\n",
              "      <td>390</td>\n",
              "      <td>116.0</td>\n",
              "      <td>62</td>\n",
              "    </tr>\n",
              "    <tr>\n",
              "      <th>9</th>\n",
              "      <td>Toshiba PDR-M65</td>\n",
              "      <td>2001</td>\n",
              "      <td>2048</td>\n",
              "      <td>1024</td>\n",
              "      <td>3</td>\n",
              "      <td>38</td>\n",
              "      <td>114</td>\n",
              "      <td>10</td>\n",
              "      <td>10</td>\n",
              "      <td>8</td>\n",
              "      <td>320</td>\n",
              "      <td>120.0</td>\n",
              "      <td>62</td>\n",
              "    </tr>\n",
              "  </tbody>\n",
              "</table>\n",
              "</div>\n",
              "    <div class=\"colab-df-buttons\">\n",
              "\n",
              "  <div class=\"colab-df-container\">\n",
              "    <button class=\"colab-df-convert\" onclick=\"convertToInteractive('df-4de3aeaa-b392-4cba-a6f7-2ab6ba640aa5')\"\n",
              "            title=\"Convert this dataframe to an interactive table.\"\n",
              "            style=\"display:none;\">\n",
              "\n",
              "  <svg xmlns=\"http://www.w3.org/2000/svg\" height=\"24px\" viewBox=\"0 -960 960 960\">\n",
              "    <path d=\"M120-120v-720h720v720H120Zm60-500h600v-160H180v160Zm220 220h160v-160H400v160Zm0 220h160v-160H400v160ZM180-400h160v-160H180v160Zm440 0h160v-160H620v160ZM180-180h160v-160H180v160Zm440 0h160v-160H620v160Z\"/>\n",
              "  </svg>\n",
              "    </button>\n",
              "\n",
              "  <style>\n",
              "    .colab-df-container {\n",
              "      display:flex;\n",
              "      gap: 12px;\n",
              "    }\n",
              "\n",
              "    .colab-df-convert {\n",
              "      background-color: #E8F0FE;\n",
              "      border: none;\n",
              "      border-radius: 50%;\n",
              "      cursor: pointer;\n",
              "      display: none;\n",
              "      fill: #1967D2;\n",
              "      height: 32px;\n",
              "      padding: 0 0 0 0;\n",
              "      width: 32px;\n",
              "    }\n",
              "\n",
              "    .colab-df-convert:hover {\n",
              "      background-color: #E2EBFA;\n",
              "      box-shadow: 0px 1px 2px rgba(60, 64, 67, 0.3), 0px 1px 3px 1px rgba(60, 64, 67, 0.15);\n",
              "      fill: #174EA6;\n",
              "    }\n",
              "\n",
              "    .colab-df-buttons div {\n",
              "      margin-bottom: 4px;\n",
              "    }\n",
              "\n",
              "    [theme=dark] .colab-df-convert {\n",
              "      background-color: #3B4455;\n",
              "      fill: #D2E3FC;\n",
              "    }\n",
              "\n",
              "    [theme=dark] .colab-df-convert:hover {\n",
              "      background-color: #434B5C;\n",
              "      box-shadow: 0px 1px 3px 1px rgba(0, 0, 0, 0.15);\n",
              "      filter: drop-shadow(0px 1px 2px rgba(0, 0, 0, 0.3));\n",
              "      fill: #FFFFFF;\n",
              "    }\n",
              "  </style>\n",
              "\n",
              "    <script>\n",
              "      const buttonEl =\n",
              "        document.querySelector('#df-4de3aeaa-b392-4cba-a6f7-2ab6ba640aa5 button.colab-df-convert');\n",
              "      buttonEl.style.display =\n",
              "        google.colab.kernel.accessAllowed ? 'block' : 'none';\n",
              "\n",
              "      async function convertToInteractive(key) {\n",
              "        const element = document.querySelector('#df-4de3aeaa-b392-4cba-a6f7-2ab6ba640aa5');\n",
              "        const dataTable =\n",
              "          await google.colab.kernel.invokeFunction('convertToInteractive',\n",
              "                                                    [key], {});\n",
              "        if (!dataTable) return;\n",
              "\n",
              "        const docLinkHtml = 'Like what you see? Visit the ' +\n",
              "          '<a target=\"_blank\" href=https://colab.research.google.com/notebooks/data_table.ipynb>data table notebook</a>'\n",
              "          + ' to learn more about interactive tables.';\n",
              "        element.innerHTML = '';\n",
              "        dataTable['output_type'] = 'display_data';\n",
              "        await google.colab.output.renderOutput(dataTable, element);\n",
              "        const docLink = document.createElement('div');\n",
              "        docLink.innerHTML = docLinkHtml;\n",
              "        element.appendChild(docLink);\n",
              "      }\n",
              "    </script>\n",
              "  </div>\n",
              "\n",
              "\n",
              "<div id=\"df-a3269112-2608-4d49-9cd2-da033a7d1cb3\">\n",
              "  <button class=\"colab-df-quickchart\" onclick=\"quickchart('df-a3269112-2608-4d49-9cd2-da033a7d1cb3')\"\n",
              "            title=\"Suggest charts\"\n",
              "            style=\"display:none;\">\n",
              "\n",
              "<svg xmlns=\"http://www.w3.org/2000/svg\" height=\"24px\"viewBox=\"0 0 24 24\"\n",
              "     width=\"24px\">\n",
              "    <g>\n",
              "        <path d=\"M19 3H5c-1.1 0-2 .9-2 2v14c0 1.1.9 2 2 2h14c1.1 0 2-.9 2-2V5c0-1.1-.9-2-2-2zM9 17H7v-7h2v7zm4 0h-2V7h2v10zm4 0h-2v-4h2v4z\"/>\n",
              "    </g>\n",
              "</svg>\n",
              "  </button>\n",
              "\n",
              "<style>\n",
              "  .colab-df-quickchart {\n",
              "      --bg-color: #E8F0FE;\n",
              "      --fill-color: #1967D2;\n",
              "      --hover-bg-color: #E2EBFA;\n",
              "      --hover-fill-color: #174EA6;\n",
              "      --disabled-fill-color: #AAA;\n",
              "      --disabled-bg-color: #DDD;\n",
              "  }\n",
              "\n",
              "  [theme=dark] .colab-df-quickchart {\n",
              "      --bg-color: #3B4455;\n",
              "      --fill-color: #D2E3FC;\n",
              "      --hover-bg-color: #434B5C;\n",
              "      --hover-fill-color: #FFFFFF;\n",
              "      --disabled-bg-color: #3B4455;\n",
              "      --disabled-fill-color: #666;\n",
              "  }\n",
              "\n",
              "  .colab-df-quickchart {\n",
              "    background-color: var(--bg-color);\n",
              "    border: none;\n",
              "    border-radius: 50%;\n",
              "    cursor: pointer;\n",
              "    display: none;\n",
              "    fill: var(--fill-color);\n",
              "    height: 32px;\n",
              "    padding: 0;\n",
              "    width: 32px;\n",
              "  }\n",
              "\n",
              "  .colab-df-quickchart:hover {\n",
              "    background-color: var(--hover-bg-color);\n",
              "    box-shadow: 0 1px 2px rgba(60, 64, 67, 0.3), 0 1px 3px 1px rgba(60, 64, 67, 0.15);\n",
              "    fill: var(--button-hover-fill-color);\n",
              "  }\n",
              "\n",
              "  .colab-df-quickchart-complete:disabled,\n",
              "  .colab-df-quickchart-complete:disabled:hover {\n",
              "    background-color: var(--disabled-bg-color);\n",
              "    fill: var(--disabled-fill-color);\n",
              "    box-shadow: none;\n",
              "  }\n",
              "\n",
              "  .colab-df-spinner {\n",
              "    border: 2px solid var(--fill-color);\n",
              "    border-color: transparent;\n",
              "    border-bottom-color: var(--fill-color);\n",
              "    animation:\n",
              "      spin 1s steps(1) infinite;\n",
              "  }\n",
              "\n",
              "  @keyframes spin {\n",
              "    0% {\n",
              "      border-color: transparent;\n",
              "      border-bottom-color: var(--fill-color);\n",
              "      border-left-color: var(--fill-color);\n",
              "    }\n",
              "    20% {\n",
              "      border-color: transparent;\n",
              "      border-left-color: var(--fill-color);\n",
              "      border-top-color: var(--fill-color);\n",
              "    }\n",
              "    30% {\n",
              "      border-color: transparent;\n",
              "      border-left-color: var(--fill-color);\n",
              "      border-top-color: var(--fill-color);\n",
              "      border-right-color: var(--fill-color);\n",
              "    }\n",
              "    40% {\n",
              "      border-color: transparent;\n",
              "      border-right-color: var(--fill-color);\n",
              "      border-top-color: var(--fill-color);\n",
              "    }\n",
              "    60% {\n",
              "      border-color: transparent;\n",
              "      border-right-color: var(--fill-color);\n",
              "    }\n",
              "    80% {\n",
              "      border-color: transparent;\n",
              "      border-right-color: var(--fill-color);\n",
              "      border-bottom-color: var(--fill-color);\n",
              "    }\n",
              "    90% {\n",
              "      border-color: transparent;\n",
              "      border-bottom-color: var(--fill-color);\n",
              "    }\n",
              "  }\n",
              "</style>\n",
              "\n",
              "  <script>\n",
              "    async function quickchart(key) {\n",
              "      const quickchartButtonEl =\n",
              "        document.querySelector('#' + key + ' button');\n",
              "      quickchartButtonEl.disabled = true;  // To prevent multiple clicks.\n",
              "      quickchartButtonEl.classList.add('colab-df-spinner');\n",
              "      try {\n",
              "        const charts = await google.colab.kernel.invokeFunction(\n",
              "            'suggestCharts', [key], {});\n",
              "      } catch (error) {\n",
              "        console.error('Error during call to suggestCharts:', error);\n",
              "      }\n",
              "      quickchartButtonEl.classList.remove('colab-df-spinner');\n",
              "      quickchartButtonEl.classList.add('colab-df-quickchart-complete');\n",
              "    }\n",
              "    (() => {\n",
              "      let quickchartButtonEl =\n",
              "        document.querySelector('#df-a3269112-2608-4d49-9cd2-da033a7d1cb3 button');\n",
              "      quickchartButtonEl.style.display =\n",
              "        google.colab.kernel.accessAllowed ? 'block' : 'none';\n",
              "    })();\n",
              "  </script>\n",
              "</div>\n",
              "\n",
              "    </div>\n",
              "  </div>\n"
            ],
            "application/vnd.google.colaboratory.intrinsic+json": {
              "type": "dataframe",
              "summary": "{\n  \"name\": \"pd\",\n  \"rows\": 10,\n  \"fields\": [\n    {\n      \"column\": \"Model\",\n      \"properties\": {\n        \"dtype\": \"string\",\n        \"num_unique_values\": 10,\n        \"samples\": [\n          \"Toshiba PDR-M70\",\n          \"JVC GC-QX5HD\",\n          \"Toshiba PDR-M81\"\n        ],\n        \"semantic_type\": \"\",\n        \"description\": \"\"\n      }\n    },\n    {\n      \"column\": \"Release date\",\n      \"properties\": {\n        \"dtype\": \"number\",\n        \"std\": 1,\n        \"min\": 1999,\n        \"max\": 2006,\n        \"num_unique_values\": 5,\n        \"samples\": [\n          2006,\n          2000,\n          2002\n        ],\n        \"semantic_type\": \"\",\n        \"description\": \"\"\n      }\n    },\n    {\n      \"column\": \"Max resolution\",\n      \"properties\": {\n        \"dtype\": \"number\",\n        \"std\": 381,\n        \"min\": 1280,\n        \"max\": 2640,\n        \"num_unique_values\": 7,\n        \"samples\": [\n          2032,\n          2640,\n          1600\n        ],\n        \"semantic_type\": \"\",\n        \"description\": \"\"\n      }\n    },\n    {\n      \"column\": \"Low resolution\",\n      \"properties\": {\n        \"dtype\": \"number\",\n        \"std\": 295,\n        \"min\": 640,\n        \"max\": 1776,\n        \"num_unique_values\": 6,\n        \"samples\": [\n          1024,\n          1776,\n          640\n        ],\n        \"semantic_type\": \"\",\n        \"description\": \"\"\n      }\n    },\n    {\n      \"column\": \"Effective pixels\",\n      \"properties\": {\n        \"dtype\": \"number\",\n        \"std\": 0,\n        \"min\": 1,\n        \"max\": 4,\n        \"num_unique_values\": 3,\n        \"samples\": [\n          3,\n          4,\n          1\n        ],\n        \"semantic_type\": \"\",\n        \"description\": \"\"\n      }\n    },\n    {\n      \"column\": \"Zoom wide (W)\",\n      \"properties\": {\n        \"dtype\": \"number\",\n        \"std\": 17,\n        \"min\": 0,\n        \"max\": 52,\n        \"num_unique_values\": 6,\n        \"samples\": [\n          37,\n          0,\n          38\n        ],\n        \"semantic_type\": \"\",\n        \"description\": \"\"\n      }\n    },\n    {\n      \"column\": \"Zoom tele (T)\",\n      \"properties\": {\n        \"dtype\": \"number\",\n        \"std\": 42,\n        \"min\": 0,\n        \"max\": 114,\n        \"num_unique_values\": 7,\n        \"samples\": [\n          86,\n          0,\n          105\n        ],\n        \"semantic_type\": \"\",\n        \"description\": \"\"\n      }\n    },\n    {\n      \"column\": \"Normal focus range\",\n      \"properties\": {\n        \"dtype\": \"number\",\n        \"std\": 34,\n        \"min\": 0,\n        \"max\": 90,\n        \"num_unique_values\": 5,\n        \"samples\": [\n          0,\n          10,\n          80\n        ],\n        \"semantic_type\": \"\",\n        \"description\": \"\"\n      }\n    },\n    {\n      \"column\": \"Macro focus range\",\n      \"properties\": {\n        \"dtype\": \"number\",\n        \"std\": 4,\n        \"min\": 0,\n        \"max\": 10,\n        \"num_unique_values\": 4,\n        \"samples\": [\n          0,\n          9,\n          2\n        ],\n        \"semantic_type\": \"\",\n        \"description\": \"\"\n      }\n    },\n    {\n      \"column\": \"Storage included\",\n      \"properties\": {\n        \"dtype\": \"number\",\n        \"std\": 5,\n        \"min\": 0,\n        \"max\": 16,\n        \"num_unique_values\": 3,\n        \"samples\": [\n          8,\n          16,\n          0\n        ],\n        \"semantic_type\": \"\",\n        \"description\": \"\"\n      }\n    },\n    {\n      \"column\": \"Weight \",\n      \"properties\": {\n        \"dtype\": \"number\",\n        \"std\": 231,\n        \"min\": 240,\n        \"max\": 950,\n        \"num_unique_values\": 7,\n        \"samples\": [\n          320,\n          750,\n          240\n        ],\n        \"semantic_type\": \"\",\n        \"description\": \"\"\n      }\n    },\n    {\n      \"column\": \"Dimensions\",\n      \"properties\": {\n        \"dtype\": \"number\",\n        \"std\": 15.614807786912467,\n        \"min\": 107.0,\n        \"max\": 152.0,\n        \"num_unique_values\": 7,\n        \"samples\": [\n          111.0,\n          144.0,\n          116.0\n        ],\n        \"semantic_type\": \"\",\n        \"description\": \"\"\n      }\n    },\n    {\n      \"column\": \"Price\",\n      \"properties\": {\n        \"dtype\": \"number\",\n        \"std\": 23,\n        \"min\": 14,\n        \"max\": 62,\n        \"num_unique_values\": 3,\n        \"samples\": [\n          14,\n          19,\n          62\n        ],\n        \"semantic_type\": \"\",\n        \"description\": \"\"\n      }\n    }\n  ]\n}"
            }
          },
          "metadata": {},
          "execution_count": 17
        }
      ],
      "source": [
        "#using pandas to display in a tabular format\n",
        "import pandas as pd\n",
        "pd.DataFrame(df.take(10),columns=df.columns)"
      ]
    },
    {
      "cell_type": "code",
      "execution_count": 18,
      "metadata": {
        "colab": {
          "base_uri": "https://localhost:8080/"
        },
        "id": "rph9VBYf2hi3",
        "outputId": "7a76b67d-cc5a-4ced-bd15-c02b8ee5ae96"
      },
      "outputs": [
        {
          "output_type": "execute_result",
          "data": {
            "text/plain": [
              "(1036, 1036, 1036)"
            ]
          },
          "metadata": {},
          "execution_count": 18
        }
      ],
      "source": [
        "df.count(), df.dropDuplicates().count(), df.dropna().count()"
      ]
    },
    {
      "cell_type": "code",
      "execution_count": 19,
      "metadata": {
        "colab": {
          "base_uri": "https://localhost:8080/"
        },
        "id": "XLAqCIcJ6Pda",
        "outputId": "ca1b343e-ef56-489a-d57b-3bb2bd1f18bb"
      },
      "outputs": [
        {
          "output_type": "stream",
          "name": "stdout",
          "text": [
            "+------------------+------------+--------------+--------------+----------------+-------------+-------------+------------------+-----------------+----------------+-------+----------+-----+\n",
            "|             Model|Release date|Max resolution|Low resolution|Effective pixels|Zoom wide (W)|Zoom tele (T)|Normal focus range|Macro focus range|Storage included|Weight |Dimensions|Price|\n",
            "+------------------+------------+--------------+--------------+----------------+-------------+-------------+------------------+-----------------+----------------+-------+----------+-----+\n",
            "|      JVC GC-QX3HD|        2001|          2032|          1024|               3|           37|           86|                50|                2|               8|    320|     111.0|   14|\n",
            "|      JVC GC-QX5HD|        2001|          2032|          1024|               3|           37|           86|                50|                2|              16|    320|     111.0|   14|\n",
            "|        Sigma SD14|        2006|          2640|          1776|               4|            0|            0|                 0|                0|               0|    750|     144.0|   19|\n",
            "|         Sigma SD9|        2002|          2268|          1134|               3|            0|            0|                 0|                0|               0|    950|     152.0|   19|\n",
            "|   Toshiba PDR-M71|        2001|          2048|          1024|               3|           35|           98|                80|               10|               8|    340|     107.0|   62|\n",
            "|   Toshiba PDR-M81|        2001|          2400|          1200|               3|           35|           98|                80|               10|              16|    340|     107.0|   62|\n",
            "|    Toshiba PDR-M4|        1999|          1600|           800|               1|           40|           40|                50|               10|               8|    290|     112.0|   62|\n",
            "|   Toshiba PDR-M11|        2001|          1280|           640|               1|           52|           52|                90|                0|               8|    240|     116.0|   62|\n",
            "|   Toshiba PDR-M70|        2000|          2048|          1024|               3|           35|          105|                80|                9|              16|    390|     116.0|   62|\n",
            "|   Toshiba PDR-M65|        2001|          2048|          1024|               3|           38|          114|                10|               10|               8|    320|     120.0|   62|\n",
            "|    Toshiba PDR-M3|        1999|          1280|           640|               1|           38|          115|                90|               25|               4|    380|     122.0|   62|\n",
            "|    Toshiba PDR-M1|        1998|          1280|           640|               1|           35|           35|                50|                9|               4|    290|     123.0|   62|\n",
            "|   Toshiba PDR-M61|        2001|          1792|           896|               2|           38|          114|                50|                5|               8|    310|     123.0|   62|\n",
            "|    Toshiba PDR-M5|        1999|          1600|           800|               1|           40|          120|                90|               25|               8|    350|     130.0|   62|\n",
            "|  Nikon Coolpix L4|        2006|          2272|          1600|               3|           38|          114|                30|                4|              10|    165|      87.0|   99|\n",
            "|Nikon Coolpix 4100|        2004|          2288|          1600|               3|           35|          105|                 0|                0|              14|    190|      88.0|   99|\n",
            "|Nikon Coolpix 2100|        2003|          1600|          1024|               1|           36|          108|                30|                4|               8|    215|      88.0|   99|\n",
            "|Nikon Coolpix 3100|        2003|          2048|          1600|               3|           38|          115|                30|                4|              16|    215|      88.0|   99|\n",
            "| Nikon Coolpix L10|        2007|          2560|          2048|               4|           37|          112|                40|               15|               7|    165|      90.0|   99|\n",
            "|  Nikon Coolpix S1|        2005|          2592|          2048|               5|           35|          105|                30|                4|              12|    170|      90.0|   99|\n",
            "+------------------+------------+--------------+--------------+----------------+-------------+-------------+------------------+-----------------+----------------+-------+----------+-----+\n",
            "only showing top 20 rows\n",
            "\n"
          ]
        }
      ],
      "source": [
        "df.show()"
      ]
    },
    {
      "cell_type": "code",
      "execution_count": 20,
      "metadata": {
        "colab": {
          "base_uri": "https://localhost:8080/"
        },
        "id": "LLYuI1Nr1luB",
        "outputId": "c461daa3-7d91-432f-9d4a-ea1225446b7b"
      },
      "outputs": [
        {
          "output_type": "execute_result",
          "data": {
            "text/plain": [
              "[('Model', 'string'),\n",
              " ('Release date', 'int'),\n",
              " ('Max resolution', 'int'),\n",
              " ('Low resolution', 'int'),\n",
              " ('Effective pixels', 'int'),\n",
              " ('Zoom wide (W)', 'int'),\n",
              " ('Zoom tele (T)', 'int'),\n",
              " ('Normal focus range', 'int'),\n",
              " ('Macro focus range', 'int'),\n",
              " ('Storage included', 'int'),\n",
              " ('Weight ', 'int'),\n",
              " ('Dimensions', 'double'),\n",
              " ('Price', 'int')]"
            ]
          },
          "metadata": {},
          "execution_count": 20
        }
      ],
      "source": [
        "df.dtypes"
      ]
    },
    {
      "cell_type": "code",
      "execution_count": 21,
      "metadata": {
        "colab": {
          "base_uri": "https://localhost:8080/"
        },
        "id": "wbYsWbH1CvIP",
        "outputId": "82916a53-b504-4781-8b70-ba39e71e4602"
      },
      "outputs": [
        {
          "output_type": "execute_result",
          "data": {
            "text/plain": [
              "['Release date',\n",
              " 'Max resolution',\n",
              " 'Low resolution',\n",
              " 'Effective pixels',\n",
              " 'Zoom wide (W)',\n",
              " 'Zoom tele (T)',\n",
              " 'Normal focus range',\n",
              " 'Macro focus range',\n",
              " 'Storage included',\n",
              " 'Weight ',\n",
              " 'Price']"
            ]
          },
          "metadata": {},
          "execution_count": 21
        }
      ],
      "source": [
        "#extract numerical columns\n",
        "numerical_cols=[t[0] for t in df.dtypes if t[1]=='int']\n",
        "numerical_cols"
      ]
    },
    {
      "cell_type": "code",
      "execution_count": 22,
      "metadata": {
        "colab": {
          "base_uri": "https://localhost:8080/",
          "height": 243
        },
        "id": "xJQ4nUvlC8jc",
        "outputId": "aad0112c-2bdf-4e70-b02e-a0c7d2f63f60"
      },
      "outputs": [
        {
          "output_type": "execute_result",
          "data": {
            "text/plain": [
              "  summary        Release date     Max resolution      Low resolution  \\\n",
              "0   count                1036               1036                1036   \n",
              "1    mean   2003.584942084942  2473.084942084942  1774.8590733590734   \n",
              "2  stddev  2.7242913534136943   759.385536323856   829.4803293842891   \n",
              "3     min                1994                  0                   0   \n",
              "4     max                2007               5616                4992   \n",
              "\n",
              "    Effective pixels       Zoom wide (W)       Zoom tele (T)  \\\n",
              "0               1036                1036                1036   \n",
              "1   4.58976833976834  32.955598455598455  121.54440154440154   \n",
              "2  2.842848735298615  10.341229219348577   93.54419739982661   \n",
              "3                  0                   0                   0   \n",
              "4                 21                  52                 518   \n",
              "\n",
              "   Normal focus range  Macro focus range   Storage included  \\\n",
              "0                1036               1036               1036   \n",
              "1  44.134169884169886  7.785714285714286  17.44787644787645   \n",
              "2   24.16389989931382  8.103701579899537   27.4406550767602   \n",
              "3                   0                  0                  0   \n",
              "4                 120                 85                450   \n",
              "\n",
              "              Weight               Price  \n",
              "0                1036               1036  \n",
              "1    319.265444015444  457.9218146718147  \n",
              "2  260.41013731482207    761.08873495814  \n",
              "3                   0                 14  \n",
              "4                1860               7999  "
            ],
            "text/html": [
              "\n",
              "  <div id=\"df-cbd5fade-03a9-4d59-b546-bf48344e4bf9\" class=\"colab-df-container\">\n",
              "    <div>\n",
              "<style scoped>\n",
              "    .dataframe tbody tr th:only-of-type {\n",
              "        vertical-align: middle;\n",
              "    }\n",
              "\n",
              "    .dataframe tbody tr th {\n",
              "        vertical-align: top;\n",
              "    }\n",
              "\n",
              "    .dataframe thead th {\n",
              "        text-align: right;\n",
              "    }\n",
              "</style>\n",
              "<table border=\"1\" class=\"dataframe\">\n",
              "  <thead>\n",
              "    <tr style=\"text-align: right;\">\n",
              "      <th></th>\n",
              "      <th>summary</th>\n",
              "      <th>Release date</th>\n",
              "      <th>Max resolution</th>\n",
              "      <th>Low resolution</th>\n",
              "      <th>Effective pixels</th>\n",
              "      <th>Zoom wide (W)</th>\n",
              "      <th>Zoom tele (T)</th>\n",
              "      <th>Normal focus range</th>\n",
              "      <th>Macro focus range</th>\n",
              "      <th>Storage included</th>\n",
              "      <th>Weight</th>\n",
              "      <th>Price</th>\n",
              "    </tr>\n",
              "  </thead>\n",
              "  <tbody>\n",
              "    <tr>\n",
              "      <th>0</th>\n",
              "      <td>count</td>\n",
              "      <td>1036</td>\n",
              "      <td>1036</td>\n",
              "      <td>1036</td>\n",
              "      <td>1036</td>\n",
              "      <td>1036</td>\n",
              "      <td>1036</td>\n",
              "      <td>1036</td>\n",
              "      <td>1036</td>\n",
              "      <td>1036</td>\n",
              "      <td>1036</td>\n",
              "      <td>1036</td>\n",
              "    </tr>\n",
              "    <tr>\n",
              "      <th>1</th>\n",
              "      <td>mean</td>\n",
              "      <td>2003.584942084942</td>\n",
              "      <td>2473.084942084942</td>\n",
              "      <td>1774.8590733590734</td>\n",
              "      <td>4.58976833976834</td>\n",
              "      <td>32.955598455598455</td>\n",
              "      <td>121.54440154440154</td>\n",
              "      <td>44.134169884169886</td>\n",
              "      <td>7.785714285714286</td>\n",
              "      <td>17.44787644787645</td>\n",
              "      <td>319.265444015444</td>\n",
              "      <td>457.9218146718147</td>\n",
              "    </tr>\n",
              "    <tr>\n",
              "      <th>2</th>\n",
              "      <td>stddev</td>\n",
              "      <td>2.7242913534136943</td>\n",
              "      <td>759.385536323856</td>\n",
              "      <td>829.4803293842891</td>\n",
              "      <td>2.842848735298615</td>\n",
              "      <td>10.341229219348577</td>\n",
              "      <td>93.54419739982661</td>\n",
              "      <td>24.16389989931382</td>\n",
              "      <td>8.103701579899537</td>\n",
              "      <td>27.4406550767602</td>\n",
              "      <td>260.41013731482207</td>\n",
              "      <td>761.08873495814</td>\n",
              "    </tr>\n",
              "    <tr>\n",
              "      <th>3</th>\n",
              "      <td>min</td>\n",
              "      <td>1994</td>\n",
              "      <td>0</td>\n",
              "      <td>0</td>\n",
              "      <td>0</td>\n",
              "      <td>0</td>\n",
              "      <td>0</td>\n",
              "      <td>0</td>\n",
              "      <td>0</td>\n",
              "      <td>0</td>\n",
              "      <td>0</td>\n",
              "      <td>14</td>\n",
              "    </tr>\n",
              "    <tr>\n",
              "      <th>4</th>\n",
              "      <td>max</td>\n",
              "      <td>2007</td>\n",
              "      <td>5616</td>\n",
              "      <td>4992</td>\n",
              "      <td>21</td>\n",
              "      <td>52</td>\n",
              "      <td>518</td>\n",
              "      <td>120</td>\n",
              "      <td>85</td>\n",
              "      <td>450</td>\n",
              "      <td>1860</td>\n",
              "      <td>7999</td>\n",
              "    </tr>\n",
              "  </tbody>\n",
              "</table>\n",
              "</div>\n",
              "    <div class=\"colab-df-buttons\">\n",
              "\n",
              "  <div class=\"colab-df-container\">\n",
              "    <button class=\"colab-df-convert\" onclick=\"convertToInteractive('df-cbd5fade-03a9-4d59-b546-bf48344e4bf9')\"\n",
              "            title=\"Convert this dataframe to an interactive table.\"\n",
              "            style=\"display:none;\">\n",
              "\n",
              "  <svg xmlns=\"http://www.w3.org/2000/svg\" height=\"24px\" viewBox=\"0 -960 960 960\">\n",
              "    <path d=\"M120-120v-720h720v720H120Zm60-500h600v-160H180v160Zm220 220h160v-160H400v160Zm0 220h160v-160H400v160ZM180-400h160v-160H180v160Zm440 0h160v-160H620v160ZM180-180h160v-160H180v160Zm440 0h160v-160H620v160Z\"/>\n",
              "  </svg>\n",
              "    </button>\n",
              "\n",
              "  <style>\n",
              "    .colab-df-container {\n",
              "      display:flex;\n",
              "      gap: 12px;\n",
              "    }\n",
              "\n",
              "    .colab-df-convert {\n",
              "      background-color: #E8F0FE;\n",
              "      border: none;\n",
              "      border-radius: 50%;\n",
              "      cursor: pointer;\n",
              "      display: none;\n",
              "      fill: #1967D2;\n",
              "      height: 32px;\n",
              "      padding: 0 0 0 0;\n",
              "      width: 32px;\n",
              "    }\n",
              "\n",
              "    .colab-df-convert:hover {\n",
              "      background-color: #E2EBFA;\n",
              "      box-shadow: 0px 1px 2px rgba(60, 64, 67, 0.3), 0px 1px 3px 1px rgba(60, 64, 67, 0.15);\n",
              "      fill: #174EA6;\n",
              "    }\n",
              "\n",
              "    .colab-df-buttons div {\n",
              "      margin-bottom: 4px;\n",
              "    }\n",
              "\n",
              "    [theme=dark] .colab-df-convert {\n",
              "      background-color: #3B4455;\n",
              "      fill: #D2E3FC;\n",
              "    }\n",
              "\n",
              "    [theme=dark] .colab-df-convert:hover {\n",
              "      background-color: #434B5C;\n",
              "      box-shadow: 0px 1px 3px 1px rgba(0, 0, 0, 0.15);\n",
              "      filter: drop-shadow(0px 1px 2px rgba(0, 0, 0, 0.3));\n",
              "      fill: #FFFFFF;\n",
              "    }\n",
              "  </style>\n",
              "\n",
              "    <script>\n",
              "      const buttonEl =\n",
              "        document.querySelector('#df-cbd5fade-03a9-4d59-b546-bf48344e4bf9 button.colab-df-convert');\n",
              "      buttonEl.style.display =\n",
              "        google.colab.kernel.accessAllowed ? 'block' : 'none';\n",
              "\n",
              "      async function convertToInteractive(key) {\n",
              "        const element = document.querySelector('#df-cbd5fade-03a9-4d59-b546-bf48344e4bf9');\n",
              "        const dataTable =\n",
              "          await google.colab.kernel.invokeFunction('convertToInteractive',\n",
              "                                                    [key], {});\n",
              "        if (!dataTable) return;\n",
              "\n",
              "        const docLinkHtml = 'Like what you see? Visit the ' +\n",
              "          '<a target=\"_blank\" href=https://colab.research.google.com/notebooks/data_table.ipynb>data table notebook</a>'\n",
              "          + ' to learn more about interactive tables.';\n",
              "        element.innerHTML = '';\n",
              "        dataTable['output_type'] = 'display_data';\n",
              "        await google.colab.output.renderOutput(dataTable, element);\n",
              "        const docLink = document.createElement('div');\n",
              "        docLink.innerHTML = docLinkHtml;\n",
              "        element.appendChild(docLink);\n",
              "      }\n",
              "    </script>\n",
              "  </div>\n",
              "\n",
              "\n",
              "<div id=\"df-d76bf591-4c00-4c0c-a560-f7b6bf64d46d\">\n",
              "  <button class=\"colab-df-quickchart\" onclick=\"quickchart('df-d76bf591-4c00-4c0c-a560-f7b6bf64d46d')\"\n",
              "            title=\"Suggest charts\"\n",
              "            style=\"display:none;\">\n",
              "\n",
              "<svg xmlns=\"http://www.w3.org/2000/svg\" height=\"24px\"viewBox=\"0 0 24 24\"\n",
              "     width=\"24px\">\n",
              "    <g>\n",
              "        <path d=\"M19 3H5c-1.1 0-2 .9-2 2v14c0 1.1.9 2 2 2h14c1.1 0 2-.9 2-2V5c0-1.1-.9-2-2-2zM9 17H7v-7h2v7zm4 0h-2V7h2v10zm4 0h-2v-4h2v4z\"/>\n",
              "    </g>\n",
              "</svg>\n",
              "  </button>\n",
              "\n",
              "<style>\n",
              "  .colab-df-quickchart {\n",
              "      --bg-color: #E8F0FE;\n",
              "      --fill-color: #1967D2;\n",
              "      --hover-bg-color: #E2EBFA;\n",
              "      --hover-fill-color: #174EA6;\n",
              "      --disabled-fill-color: #AAA;\n",
              "      --disabled-bg-color: #DDD;\n",
              "  }\n",
              "\n",
              "  [theme=dark] .colab-df-quickchart {\n",
              "      --bg-color: #3B4455;\n",
              "      --fill-color: #D2E3FC;\n",
              "      --hover-bg-color: #434B5C;\n",
              "      --hover-fill-color: #FFFFFF;\n",
              "      --disabled-bg-color: #3B4455;\n",
              "      --disabled-fill-color: #666;\n",
              "  }\n",
              "\n",
              "  .colab-df-quickchart {\n",
              "    background-color: var(--bg-color);\n",
              "    border: none;\n",
              "    border-radius: 50%;\n",
              "    cursor: pointer;\n",
              "    display: none;\n",
              "    fill: var(--fill-color);\n",
              "    height: 32px;\n",
              "    padding: 0;\n",
              "    width: 32px;\n",
              "  }\n",
              "\n",
              "  .colab-df-quickchart:hover {\n",
              "    background-color: var(--hover-bg-color);\n",
              "    box-shadow: 0 1px 2px rgba(60, 64, 67, 0.3), 0 1px 3px 1px rgba(60, 64, 67, 0.15);\n",
              "    fill: var(--button-hover-fill-color);\n",
              "  }\n",
              "\n",
              "  .colab-df-quickchart-complete:disabled,\n",
              "  .colab-df-quickchart-complete:disabled:hover {\n",
              "    background-color: var(--disabled-bg-color);\n",
              "    fill: var(--disabled-fill-color);\n",
              "    box-shadow: none;\n",
              "  }\n",
              "\n",
              "  .colab-df-spinner {\n",
              "    border: 2px solid var(--fill-color);\n",
              "    border-color: transparent;\n",
              "    border-bottom-color: var(--fill-color);\n",
              "    animation:\n",
              "      spin 1s steps(1) infinite;\n",
              "  }\n",
              "\n",
              "  @keyframes spin {\n",
              "    0% {\n",
              "      border-color: transparent;\n",
              "      border-bottom-color: var(--fill-color);\n",
              "      border-left-color: var(--fill-color);\n",
              "    }\n",
              "    20% {\n",
              "      border-color: transparent;\n",
              "      border-left-color: var(--fill-color);\n",
              "      border-top-color: var(--fill-color);\n",
              "    }\n",
              "    30% {\n",
              "      border-color: transparent;\n",
              "      border-left-color: var(--fill-color);\n",
              "      border-top-color: var(--fill-color);\n",
              "      border-right-color: var(--fill-color);\n",
              "    }\n",
              "    40% {\n",
              "      border-color: transparent;\n",
              "      border-right-color: var(--fill-color);\n",
              "      border-top-color: var(--fill-color);\n",
              "    }\n",
              "    60% {\n",
              "      border-color: transparent;\n",
              "      border-right-color: var(--fill-color);\n",
              "    }\n",
              "    80% {\n",
              "      border-color: transparent;\n",
              "      border-right-color: var(--fill-color);\n",
              "      border-bottom-color: var(--fill-color);\n",
              "    }\n",
              "    90% {\n",
              "      border-color: transparent;\n",
              "      border-bottom-color: var(--fill-color);\n",
              "    }\n",
              "  }\n",
              "</style>\n",
              "\n",
              "  <script>\n",
              "    async function quickchart(key) {\n",
              "      const quickchartButtonEl =\n",
              "        document.querySelector('#' + key + ' button');\n",
              "      quickchartButtonEl.disabled = true;  // To prevent multiple clicks.\n",
              "      quickchartButtonEl.classList.add('colab-df-spinner');\n",
              "      try {\n",
              "        const charts = await google.colab.kernel.invokeFunction(\n",
              "            'suggestCharts', [key], {});\n",
              "      } catch (error) {\n",
              "        console.error('Error during call to suggestCharts:', error);\n",
              "      }\n",
              "      quickchartButtonEl.classList.remove('colab-df-spinner');\n",
              "      quickchartButtonEl.classList.add('colab-df-quickchart-complete');\n",
              "    }\n",
              "    (() => {\n",
              "      let quickchartButtonEl =\n",
              "        document.querySelector('#df-d76bf591-4c00-4c0c-a560-f7b6bf64d46d button');\n",
              "      quickchartButtonEl.style.display =\n",
              "        google.colab.kernel.accessAllowed ? 'block' : 'none';\n",
              "    })();\n",
              "  </script>\n",
              "</div>\n",
              "\n",
              "    </div>\n",
              "  </div>\n"
            ],
            "application/vnd.google.colaboratory.intrinsic+json": {
              "type": "dataframe",
              "summary": "{\n  \"name\": \"df\",\n  \"rows\": 5,\n  \"fields\": [\n    {\n      \"column\": \"summary\",\n      \"properties\": {\n        \"dtype\": \"string\",\n        \"num_unique_values\": 5,\n        \"samples\": [\n          \"mean\",\n          \"max\",\n          \"stddev\"\n        ],\n        \"semantic_type\": \"\",\n        \"description\": \"\"\n      }\n    },\n    {\n      \"column\": \"Release date\",\n      \"properties\": {\n        \"dtype\": \"string\",\n        \"num_unique_values\": 5,\n        \"samples\": [\n          \"2003.584942084942\",\n          \"2007\",\n          \"2.7242913534136943\"\n        ],\n        \"semantic_type\": \"\",\n        \"description\": \"\"\n      }\n    },\n    {\n      \"column\": \"Max resolution\",\n      \"properties\": {\n        \"dtype\": \"string\",\n        \"num_unique_values\": 5,\n        \"samples\": [\n          \"2473.084942084942\",\n          \"5616\",\n          \"759.385536323856\"\n        ],\n        \"semantic_type\": \"\",\n        \"description\": \"\"\n      }\n    },\n    {\n      \"column\": \"Low resolution\",\n      \"properties\": {\n        \"dtype\": \"string\",\n        \"num_unique_values\": 5,\n        \"samples\": [\n          \"1774.8590733590734\",\n          \"4992\",\n          \"829.4803293842891\"\n        ],\n        \"semantic_type\": \"\",\n        \"description\": \"\"\n      }\n    },\n    {\n      \"column\": \"Effective pixels\",\n      \"properties\": {\n        \"dtype\": \"string\",\n        \"num_unique_values\": 5,\n        \"samples\": [\n          \"4.58976833976834\",\n          \"21\",\n          \"2.842848735298615\"\n        ],\n        \"semantic_type\": \"\",\n        \"description\": \"\"\n      }\n    },\n    {\n      \"column\": \"Zoom wide (W)\",\n      \"properties\": {\n        \"dtype\": \"string\",\n        \"num_unique_values\": 5,\n        \"samples\": [\n          \"32.955598455598455\",\n          \"52\",\n          \"10.341229219348577\"\n        ],\n        \"semantic_type\": \"\",\n        \"description\": \"\"\n      }\n    },\n    {\n      \"column\": \"Zoom tele (T)\",\n      \"properties\": {\n        \"dtype\": \"string\",\n        \"num_unique_values\": 5,\n        \"samples\": [\n          \"121.54440154440154\",\n          \"518\",\n          \"93.54419739982661\"\n        ],\n        \"semantic_type\": \"\",\n        \"description\": \"\"\n      }\n    },\n    {\n      \"column\": \"Normal focus range\",\n      \"properties\": {\n        \"dtype\": \"string\",\n        \"num_unique_values\": 5,\n        \"samples\": [\n          \"44.134169884169886\",\n          \"120\",\n          \"24.16389989931382\"\n        ],\n        \"semantic_type\": \"\",\n        \"description\": \"\"\n      }\n    },\n    {\n      \"column\": \"Macro focus range\",\n      \"properties\": {\n        \"dtype\": \"string\",\n        \"num_unique_values\": 5,\n        \"samples\": [\n          \"7.785714285714286\",\n          \"85\",\n          \"8.103701579899537\"\n        ],\n        \"semantic_type\": \"\",\n        \"description\": \"\"\n      }\n    },\n    {\n      \"column\": \"Storage included\",\n      \"properties\": {\n        \"dtype\": \"string\",\n        \"num_unique_values\": 5,\n        \"samples\": [\n          \"17.44787644787645\",\n          \"450\",\n          \"27.4406550767602\"\n        ],\n        \"semantic_type\": \"\",\n        \"description\": \"\"\n      }\n    },\n    {\n      \"column\": \"Weight \",\n      \"properties\": {\n        \"dtype\": \"string\",\n        \"num_unique_values\": 5,\n        \"samples\": [\n          \"319.265444015444\",\n          \"1860\",\n          \"260.41013731482207\"\n        ],\n        \"semantic_type\": \"\",\n        \"description\": \"\"\n      }\n    },\n    {\n      \"column\": \"Price\",\n      \"properties\": {\n        \"dtype\": \"string\",\n        \"num_unique_values\": 5,\n        \"samples\": [\n          \"457.9218146718147\",\n          \"7999\",\n          \"761.08873495814\"\n        ],\n        \"semantic_type\": \"\",\n        \"description\": \"\"\n      }\n    }\n  ]\n}"
            }
          },
          "metadata": {},
          "execution_count": 22
        }
      ],
      "source": [
        "#descriptive stats of numerical columns\n",
        "df.select(numerical_cols).describe().toPandas()"
      ]
    },
    {
      "cell_type": "code",
      "execution_count": 23,
      "metadata": {
        "id": "jY5YtLCm2Ioq"
      },
      "outputs": [],
      "source": [
        "from pyspark.ml.feature import OneHotEncoder,StringIndexer,VectorAssembler\n",
        "from pyspark.ml import Pipeline"
      ]
    },
    {
      "cell_type": "code",
      "execution_count": 24,
      "metadata": {
        "id": "yZQg7j6P2v1V"
      },
      "outputs": [],
      "source": [
        "categoricalColumns=['Model']"
      ]
    },
    {
      "cell_type": "code",
      "execution_count": 25,
      "metadata": {
        "colab": {
          "base_uri": "https://localhost:8080/"
        },
        "id": "WCRZMSxF9Ca_",
        "outputId": "ea3ebe74-334f-43e2-c5b5-f6ed451261d9"
      },
      "outputs": [
        {
          "output_type": "stream",
          "name": "stdout",
          "text": [
            "root\n",
            " |-- Price: integer (nullable = true)\n",
            " |-- features: vector (nullable = true)\n",
            "\n"
          ]
        }
      ],
      "source": [
        "stages = []\n",
        "cols = df.columns\n",
        "for categoricalCol in categoricalColumns:\n",
        "  stringIndexer = StringIndexer(inputCol = categoricalCol, outputCol = categoricalCol + 'Index')\n",
        "  encoder = OneHotEncoder(inputCols=[stringIndexer.getOutputCol()], outputCols=[categoricalCol + \"classVec\"])\n",
        "  stages += [stringIndexer, encoder]\n",
        "\n",
        "numericCols = ['Release date','Max resolution','Low resolution','Effective pixels','Zoom wide (W)','Zoom tele (T)','Normal focus range','Macro focus range','Storage included','Weight ','Dimensions','Price']\n",
        "assemblerInputs =numericCols\n",
        "assembler = VectorAssembler(inputCols=assemblerInputs, outputCol=\"features\")\n",
        "stages += [assembler]\n",
        "pipeline = Pipeline(stages = stages)\n",
        "pipelineModel = pipeline.fit(df)\n",
        "df = pipelineModel.transform(df)\n",
        "\n",
        "selectedCols = ['Price', 'features']\n",
        "df = df.select(selectedCols)\n",
        "df.printSchema()"
      ]
    },
    {
      "cell_type": "code",
      "execution_count": 26,
      "metadata": {
        "colab": {
          "base_uri": "https://localhost:8080/"
        },
        "id": "qP9_MbDoDZ3p",
        "outputId": "1aac055e-a9f1-46b6-ac27-3f7fd2ab069f"
      },
      "outputs": [
        {
          "output_type": "stream",
          "name": "stdout",
          "text": [
            "+-----+--------------------+\n",
            "|Price|            features|\n",
            "+-----+--------------------+\n",
            "|   14|[2001.0,2032.0,10...|\n",
            "|   14|[2001.0,2032.0,10...|\n",
            "|   19|[2006.0,2640.0,17...|\n",
            "|   19|[2002.0,2268.0,11...|\n",
            "|   62|[2001.0,2048.0,10...|\n",
            "|   62|[2001.0,2400.0,12...|\n",
            "|   62|[1999.0,1600.0,80...|\n",
            "|   62|[2001.0,1280.0,64...|\n",
            "|   62|[2000.0,2048.0,10...|\n",
            "|   62|[2001.0,2048.0,10...|\n",
            "|   62|[1999.0,1280.0,64...|\n",
            "|   62|[1998.0,1280.0,64...|\n",
            "|   62|[2001.0,1792.0,89...|\n",
            "|   62|[1999.0,1600.0,80...|\n",
            "|   99|[2006.0,2272.0,16...|\n",
            "|   99|[2004.0,2288.0,16...|\n",
            "|   99|[2003.0,1600.0,10...|\n",
            "|   99|[2003.0,2048.0,16...|\n",
            "|   99|[2007.0,2560.0,20...|\n",
            "|   99|[2005.0,2592.0,20...|\n",
            "+-----+--------------------+\n",
            "only showing top 20 rows\n",
            "\n"
          ]
        }
      ],
      "source": [
        "df.show()"
      ]
    },
    {
      "cell_type": "code",
      "execution_count": 27,
      "metadata": {
        "id": "MWhO9pEvEcpb",
        "colab": {
          "base_uri": "https://localhost:8080/"
        },
        "outputId": "2d2c9696-3d62-48f0-b9bc-e9ffe3bd4699"
      },
      "outputs": [
        {
          "output_type": "stream",
          "name": "stdout",
          "text": [
            "Tarining Dataset Count:735\n",
            "Test Dataset Count:301\n"
          ]
        }
      ],
      "source": [
        "#performing random split of training and testing\n",
        "train,test=df.randomSplit([0.7,0.3],seed=2018)\n",
        "print(\"Tarining Dataset Count:\"+str(train.count()))\n",
        "print(\"Test Dataset Count:\"+str(test.count()))"
      ]
    },
    {
      "cell_type": "code",
      "execution_count": 28,
      "metadata": {
        "id": "SCL77wN9FI59"
      },
      "outputs": [],
      "source": [
        "#Create a Logistic regression model\n",
        "from pyspark.ml.classification import LogisticRegression\n",
        "lr=LogisticRegression(featuresCol='features',labelCol='Price',maxIter=7)\n",
        "lrModel=lr.fit(train)"
      ]
    },
    {
      "cell_type": "code",
      "execution_count": 29,
      "metadata": {
        "id": "ebeQLGiHHqY_",
        "colab": {
          "base_uri": "https://localhost:8080/"
        },
        "outputId": "2418111f-a87f-4491-fd5c-7dcac759df6b"
      },
      "outputs": [
        {
          "output_type": "stream",
          "name": "stdout",
          "text": [
            "+-----+--------------------+----------+--------------------+\n",
            "|Price|       rawPrediction|prediction|         probability|\n",
            "+-----+--------------------+----------+--------------------+\n",
            "|   14|[-0.0191292830469...|     149.0|[9.34236769512313...|\n",
            "|   62|[-0.0179195000693...|     129.0|[4.60963715337757...|\n",
            "|   62|[-0.0182375413444...|     129.0|[4.10745753209588...|\n",
            "|   62|[-0.0189595825925...|     149.0|[1.17501783914338...|\n",
            "|   99|[-0.0200503539686...|     149.0|[1.15424016986154...|\n",
            "|   99|[-0.0214930643284...|     139.0|[4.72542026956494...|\n",
            "|   99|[-0.0219487181718...|     149.0|[1.06854878879669...|\n",
            "|   99|[-0.0225698934115...|     149.0|[1.19611667772311...|\n",
            "|   99|[-0.0221217982932...|     179.0|[1.04473834579887...|\n",
            "|   99|[-0.0220300400009...|     149.0|[4.04051313832085...|\n",
            "+-----+--------------------+----------+--------------------+\n",
            "only showing top 10 rows\n",
            "\n"
          ]
        }
      ],
      "source": [
        "predictions=lrModel.transform(test)\n",
        "predictions.select('Price','rawPrediction','prediction','probability').show(10)"
      ]
    },
    {
      "cell_type": "markdown",
      "metadata": {
        "id": "VkSiPU9OLcDh"
      },
      "source": [
        "**Linear Regression Model**"
      ]
    },
    {
      "cell_type": "code",
      "execution_count": 30,
      "metadata": {
        "id": "ZGGIvsjgLgv4"
      },
      "outputs": [],
      "source": [
        "from pyspark.ml.regression import LinearRegression\n",
        "lr=LinearRegression(featuresCol='features',labelCol='Price',maxIter=7,regParam=0.3)\n",
        "lr_model=lr.fit(train)"
      ]
    },
    {
      "cell_type": "code",
      "execution_count": 31,
      "metadata": {
        "id": "xjW3VJtGUbDE",
        "colab": {
          "base_uri": "https://localhost:8080/"
        },
        "outputId": "957d16cd-c177-4065-f700-cb665a814779"
      },
      "outputs": [
        {
          "output_type": "stream",
          "name": "stdout",
          "text": [
            "+------------------+-----+--------------------+\n",
            "|        prediction|Price|            features|\n",
            "+------------------+-----+--------------------+\n",
            "|14.182630221125692|   14|[2001.0,2032.0,10...|\n",
            "|19.754124465636146|   19|[2002.0,2268.0,11...|\n",
            "|19.645506374811387|   19|[2006.0,2640.0,17...|\n",
            "| 62.21548954108222|   62|[1998.0,1280.0,64...|\n",
            "| 62.20737271651218|   62|[1999.0,1280.0,64...|\n",
            "+------------------+-----+--------------------+\n",
            "only showing top 5 rows\n",
            "\n"
          ]
        }
      ],
      "source": [
        "#Predictions\n",
        "lr_predictions=lr_model.transform(train)\n",
        "lr_predictions.select(\"prediction\",\"Price\",\"features\").show(5)"
      ]
    },
    {
      "cell_type": "code",
      "execution_count": 32,
      "metadata": {
        "id": "AAM14wSVUvSa",
        "colab": {
          "base_uri": "https://localhost:8080/"
        },
        "outputId": "3f09d299-6984-445e-98c5-ab5006e32a81"
      },
      "outputs": [
        {
          "output_type": "stream",
          "name": "stdout",
          "text": [
            "0.9999997328064996\n"
          ]
        }
      ],
      "source": [
        "#Evaluate prediction accuracy(R2)\n",
        "from pyspark.ml.evaluation import RegressionEvaluator\n",
        "lr_evaluator=RegressionEvaluator(predictionCol=\"prediction\", \\\n",
        "                                 labelCol=\"Price\",metricName=\"r2\")\n",
        "print(lr_evaluator.evaluate(lr_predictions))\n"
      ]
    },
    {
      "cell_type": "code",
      "execution_count": 33,
      "metadata": {
        "colab": {
          "base_uri": "https://localhost:8080/"
        },
        "id": "WZv6T4gCgIa5",
        "outputId": "ec0d3727-2618-4974-9b2d-917a11713065"
      },
      "outputs": [
        {
          "output_type": "stream",
          "name": "stdout",
          "text": [
            "0.3557307687665225\n"
          ]
        }
      ],
      "source": [
        "#Evaluate prediction accuracy(RMSE)\n",
        "lr_evaluator=RegressionEvaluator(predictionCol=\"prediction\", \\\n",
        "                                 labelCol=\"Price\",metricName=\"rmse\")\n",
        "print(lr_evaluator.evaluate(lr_predictions))\n",
        "\n"
      ]
    },
    {
      "cell_type": "code",
      "execution_count": 34,
      "metadata": {
        "colab": {
          "base_uri": "https://localhost:8080/",
          "height": 472
        },
        "id": "X1_o-TVnkwz0",
        "outputId": "7f160206-15ff-4d67-c5e6-7b0c218c78b4"
      },
      "outputs": [
        {
          "output_type": "display_data",
          "data": {
            "text/plain": [
              "<Figure size 640x480 with 1 Axes>"
            ],
            "image/png": "[encoded data removed]"
          },
          "metadata": {}
        }
      ],
      "source": [
        "#Plot the graph\n",
        "import matplotlib.pyplot as plt\n",
        "y_pred=lr_predictions.select(\"prediction\").collect()\n",
        "y_test=lr_predictions.select(\"Price\").collect()\n",
        "\n",
        "x_ax = range(len(y_test))\n",
        "plt.plot(x_ax, y_test, label=\"original\")\n",
        "plt.plot(x_ax, y_pred, label=\"predicted\")\n",
        "plt.title('Camera dataset Linear Regression')\n",
        "plt.xlabel('Data points')\n",
        "plt.ylabel('Price')\n",
        "plt.legend()\n",
        "plt.show()"
      ]
    },
    {
      "cell_type": "markdown",
      "metadata": {
        "id": "uTVjmVCzWYZn"
      },
      "source": [
        "**Decision Tree regressor model**"
      ]
    },
    {
      "cell_type": "code",
      "execution_count": 35,
      "metadata": {
        "id": "gyXmDhJfWCgn"
      },
      "outputs": [],
      "source": [
        "from pyspark.ml.regression import DecisionTreeRegressor\n",
        "dt=DecisionTreeRegressor(featuresCol='features',labelCol='Price')\n",
        "dt_model=dt.fit(train)"
      ]
    },
    {
      "cell_type": "code",
      "execution_count": 36,
      "metadata": {
        "colab": {
          "base_uri": "https://localhost:8080/"
        },
        "id": "vtf3GnsbW3Gh",
        "outputId": "da1b1f07-4b77-4100-d073-dd24e3e636c9"
      },
      "outputs": [
        {
          "output_type": "stream",
          "name": "stdout",
          "text": [
            "+-----+--------------------+----------+\n",
            "|Price|            features|prediction|\n",
            "+-----+--------------------+----------+\n",
            "|   14|[2001.0,2032.0,10...|     83.25|\n",
            "|   19|[2002.0,2268.0,11...|     83.25|\n",
            "|   19|[2006.0,2640.0,17...|     83.25|\n",
            "|   62|[1998.0,1280.0,64...|     83.25|\n",
            "|   62|[1999.0,1280.0,64...|     83.25|\n",
            "+-----+--------------------+----------+\n",
            "only showing top 5 rows\n",
            "\n"
          ]
        }
      ],
      "source": [
        "#perform predictions\n",
        "dt_predictions=dt_model.transform(train)\n",
        "dt_predictions.show(5)"
      ]
    },
    {
      "cell_type": "code",
      "execution_count": 37,
      "metadata": {
        "colab": {
          "base_uri": "https://localhost:8080/"
        },
        "id": "2osqmxaiXNsW",
        "outputId": "f16536cf-326e-44c3-e6a6-9c3aeca0c78f"
      },
      "outputs": [
        {
          "output_type": "stream",
          "name": "stdout",
          "text": [
            "0.9984951700226803\n"
          ]
        }
      ],
      "source": [
        "#evaluate prediction accuracy(R2)\n",
        "dt_evaluator=RegressionEvaluator(labelCol=\"Price\",predictionCol=\"prediction\",metricName=\"r2\")\n",
        "r2=dt_evaluator.evaluate(dt_predictions)\n",
        "print(r2)\n"
      ]
    },
    {
      "cell_type": "code",
      "execution_count": 38,
      "metadata": {
        "colab": {
          "base_uri": "https://localhost:8080/"
        },
        "id": "i-o8mX4lmWrF",
        "outputId": "4eb75117-b0bb-44a4-c976-45045b93b073"
      },
      "outputs": [
        {
          "output_type": "stream",
          "name": "stdout",
          "text": [
            "26.696369408958226\n"
          ]
        }
      ],
      "source": [
        "#Evaluate prediction accuracy(RMSE)\n",
        "dt_evaluator=RegressionEvaluator(labelCol=\"Price\",predictionCol=\"prediction\",metricName=\"rmse\")\n",
        "rmse=dt_evaluator.evaluate(dt_predictions)\n",
        "print(rmse)\n",
        "\n"
      ]
    },
    {
      "cell_type": "code",
      "execution_count": 39,
      "metadata": {
        "colab": {
          "base_uri": "https://localhost:8080/",
          "height": 472
        },
        "id": "TmlDOmBbme3p",
        "outputId": "07d7f02e-b250-49f3-bbb2-9b89b601652a"
      },
      "outputs": [
        {
          "output_type": "display_data",
          "data": {
            "text/plain": [
              "<Figure size 640x480 with 1 Axes>"
            ],
            "image/png": "[encoded data removed]"
          },
          "metadata": {}
        }
      ],
      "source": [
        "#Plot the graph\n",
        "import matplotlib.pyplot as plt\n",
        "y_pred=dt_predictions.select(\"prediction\").collect()\n",
        "y_test=dt_predictions.select(\"Price\").collect()\n",
        "\n",
        "x_ax = range(len(y_test))\n",
        "plt.plot(x_ax, y_test, label=\"original\")\n",
        "plt.plot(x_ax, y_pred, label=\"predicted\")\n",
        "plt.title('Camera dataset Decision Tree Regression')\n",
        "plt.xlabel('Data points')\n",
        "plt.ylabel('Price')\n",
        "plt.legend()\n",
        "plt.show()\n"
      ]
    },
    {
      "cell_type": "markdown",
      "metadata": {
        "id": "73MtyXZBX1EH"
      },
      "source": [
        "**GBT(Gradient bosting algorithm) Regressor Algorithm**"
      ]
    },
    {
      "cell_type": "code",
      "execution_count": 40,
      "metadata": {
        "id": "zkl3L9jhX5vV"
      },
      "outputs": [],
      "source": [
        "from pyspark.ml.regression import GBTRegressor\n",
        "gbt=GBTRegressor(featuresCol='features',labelCol='Price',maxIter=10)\n",
        "gbt_model=gbt.fit(train)"
      ]
    },
    {
      "cell_type": "code",
      "execution_count": 41,
      "metadata": {
        "colab": {
          "base_uri": "https://localhost:8080/"
        },
        "id": "RSZdrX4nYThI",
        "outputId": "47f3e296-1f45-410d-9732-860670bed1d8"
      },
      "outputs": [
        {
          "output_type": "stream",
          "name": "stdout",
          "text": [
            "+-----------------+-----+--------------------+\n",
            "|       prediction|Price|            features|\n",
            "+-----------------+-----+--------------------+\n",
            "|60.26562353514698|   14|[2001.0,2032.0,10...|\n",
            "|41.93781669051755|   19|[2002.0,2268.0,11...|\n",
            "| 47.9473606428388|   19|[2006.0,2640.0,17...|\n",
            "|70.28316101875757|   62|[1998.0,1280.0,64...|\n",
            "| 69.2222026228622|   62|[1999.0,1280.0,64...|\n",
            "+-----------------+-----+--------------------+\n",
            "only showing top 5 rows\n",
            "\n"
          ]
        }
      ],
      "source": [
        "#perform predictions\n",
        "gbt_predictions=gbt_model.transform(train)\n",
        "gbt_predictions.select('prediction','Price','features').show(5)\n"
      ]
    },
    {
      "cell_type": "code",
      "execution_count": 42,
      "metadata": {
        "colab": {
          "base_uri": "https://localhost:8080/"
        },
        "id": "xUgFG3FbYm8P",
        "outputId": "955e78f9-b27b-43f0-818c-169bf48d8842"
      },
      "outputs": [
        {
          "output_type": "stream",
          "name": "stdout",
          "text": [
            "0.9998659498850349\n"
          ]
        }
      ],
      "source": [
        "#evaluate accuracy\n",
        "gbt_evaluator=RegressionEvaluator(labelCol=\"Price\",predictionCol=\"prediction\",metricName=\"r2\")\n",
        "r2=gbt_evaluator.evaluate(gbt_predictions)\n",
        "print(r2)\n",
        "\n"
      ]
    },
    {
      "cell_type": "code",
      "execution_count": 43,
      "metadata": {
        "colab": {
          "base_uri": "https://localhost:8080/"
        },
        "id": "blAfeFaRmvMF",
        "outputId": "692269fe-1599-478a-f181-ad8907ebb029"
      },
      "outputs": [
        {
          "output_type": "stream",
          "name": "stdout",
          "text": [
            "7.967867097899778\n"
          ]
        }
      ],
      "source": [
        "#Evaluate prediction accuracy(RMSE)\n",
        "gbt_evaluator=RegressionEvaluator(labelCol=\"Price\",predictionCol=\"prediction\",metricName=\"rmse\")\n",
        "rmse=gbt_evaluator.evaluate(gbt_predictions)\n",
        "print(rmse)"
      ]
    },
    {
      "cell_type": "code",
      "execution_count": 44,
      "metadata": {
        "colab": {
          "base_uri": "https://localhost:8080/",
          "height": 472
        },
        "id": "xPKjQpW1mvIq",
        "outputId": "8f03e2a1-f80b-40b6-db9a-937a41fdbd5e"
      },
      "outputs": [
        {
          "output_type": "display_data",
          "data": {
            "text/plain": [
              "<Figure size 640x480 with 1 Axes>"
            ],
            "image/png": "[encoded data removed]"
          },
          "metadata": {}
        }
      ],
      "source": [
        "#Plot the graph\n",
        "import matplotlib.pyplot as plt\n",
        "y_pred=gbt_predictions.select(\"prediction\").collect()\n",
        "y_test=gbt_predictions.select(\"Price\").collect()\n",
        "\n",
        "x_ax = range(len(y_test))\n",
        "plt.plot(x_ax, y_test, label=\"original\")\n",
        "plt.plot(x_ax, y_pred, label=\"predicted\")\n",
        "plt.title('Camera dataset GBT Regression')\n",
        "plt.xlabel('Data Points')\n",
        "plt.ylabel('Price')\n",
        "plt.legend()\n",
        "plt.show()"
      ]
    },
    {
      "cell_type": "markdown",
      "metadata": {
        "id": "8K3W56EX2Qut"
      },
      "source": [
        "**DataScience and Visualization**"
      ]
    },
    {
      "cell_type": "code",
      "execution_count": 45,
      "metadata": {
        "colab": {
          "base_uri": "https://localhost:8080/"
        },
        "id": "kWv9dnNnQZBt",
        "outputId": "4bacabbc-193d-4f9d-dcdf-0078c80db971"
      },
      "outputs": [
        {
          "output_type": "stream",
          "name": "stdout",
          "text": [
            "Requirement already satisfied: chardet in /usr/local/lib/python3.10/dist-packages (5.2.0)\n"
          ]
        }
      ],
      "source": [
        "!pip install chardet\n"
      ]
    },
    {
      "cell_type": "code",
      "execution_count": 46,
      "metadata": {
        "id": "NrN2UDhLkqTF"
      },
      "outputs": [],
      "source": [
        "import chardet\n",
        "import pandas as pd"
      ]
    },
    {
      "cell_type": "code",
      "execution_count": 47,
      "metadata": {
        "id": "Mc_sf8Gnkv6Y"
      },
      "outputs": [],
      "source": [
        "with open('/content/sample_data/camera_dataset.csv', 'rb') as f:\n",
        "    encoding = chardet.detect(f.read())['encoding']"
      ]
    },
    {
      "cell_type": "code",
      "execution_count": 48,
      "metadata": {
        "colab": {
          "base_uri": "https://localhost:8080/"
        },
        "id": "P2PMfmnPk0nS",
        "outputId": "57afe71e-29ad-4c16-c446-3663f158d2ae"
      },
      "outputs": [
        {
          "output_type": "execute_result",
          "data": {
            "text/plain": [
              "Model                 1036\n",
              "Release date            14\n",
              "Max resolution          98\n",
              "Low resolution          70\n",
              "Effective pixels        16\n",
              "Zoom wide (W)           25\n",
              "Zoom tele (T)          100\n",
              "Normal focus range      32\n",
              "Macro focus range       29\n",
              "Storage included        44\n",
              "Weight                 237\n",
              "Dimensions             101\n",
              "Price                   43\n",
              "dtype: int64"
            ]
          },
          "metadata": {},
          "execution_count": 48
        }
      ],
      "source": [
        "import numpy as np\n",
        "import pandas as pd\n",
        "import matplotlib.pyplot as plt\n",
        "import seaborn as sns\n",
        "df1 = pd.read_csv('/content/sample_data/camera_dataset.csv', encoding=encoding)\n",
        "df1.nunique()"
      ]
    },
    {
      "cell_type": "code",
      "execution_count": 49,
      "metadata": {
        "colab": {
          "base_uri": "https://localhost:8080/"
        },
        "id": "QcXfnlr0fwjt",
        "outputId": "ddc7317b-a90f-4ab6-f7a4-a781cdfe4cde"
      },
      "outputs": [
        {
          "output_type": "execute_result",
          "data": {
            "text/plain": [
              "Index(['Model', 'Release date', 'Max resolution', 'Low resolution',\n",
              "       'Effective pixels', 'Zoom wide (W)', 'Zoom tele (T)',\n",
              "       'Normal focus range', 'Macro focus range', 'Storage included',\n",
              "       'Weight ', 'Dimensions', 'Price'],\n",
              "      dtype='object')"
            ]
          },
          "metadata": {},
          "execution_count": 49
        }
      ],
      "source": [
        "df1.columns"
      ]
    },
    {
      "cell_type": "code",
      "execution_count": 50,
      "metadata": {
        "id": "P0W8TLiWd_dC"
      },
      "outputs": [],
      "source": [
        "#Calculate the correlation matrix\n",
        "correlation_matrix = df1[['Release date','Max resolution','Low resolution','Effective pixels','Zoom tele (T)','Normal focus range', 'Storage included', 'Price',]].corr()"
      ]
    },
    {
      "cell_type": "code",
      "execution_count": 51,
      "metadata": {
        "colab": {
          "base_uri": "https://localhost:8080/",
          "height": 335
        },
        "id": "bT5Yc_g8g_0g",
        "outputId": "d41728a2-c934-4d7f-bb94-dfc4eca6e52e"
      },
      "outputs": [
        {
          "output_type": "execute_result",
          "data": {
            "text/plain": [
              "                    Release date  Max resolution  Low resolution  \\\n",
              "Release date            1.000000        0.788234        0.750016   \n",
              "Max resolution          0.788234        1.000000        0.842790   \n",
              "Low resolution          0.750016        0.842790        1.000000   \n",
              "Effective pixels        0.790263        0.953846        0.820322   \n",
              "Zoom tele (T)           0.193020        0.069377        0.154785   \n",
              "Normal focus range     -0.074887       -0.200449       -0.125436   \n",
              "Storage included        0.213093        0.166222        0.156652   \n",
              "Price                  -0.022522        0.184201        0.154204   \n",
              "\n",
              "                    Effective pixels  Zoom tele (T)  Normal focus range  \\\n",
              "Release date                0.790263       0.193020           -0.074887   \n",
              "Max resolution              0.953846       0.069377           -0.200449   \n",
              "Low resolution              0.820322       0.154785           -0.125436   \n",
              "Effective pixels            1.000000       0.084644           -0.193252   \n",
              "Zoom tele (T)               0.084644       1.000000            0.167641   \n",
              "Normal focus range         -0.193252       0.167641            1.000000   \n",
              "Storage included            0.157844       0.114075            0.159605   \n",
              "Price                       0.190284      -0.189480           -0.273854   \n",
              "\n",
              "                    Storage included     Price  \n",
              "Release date                0.213093 -0.022522  \n",
              "Max resolution              0.166222  0.184201  \n",
              "Low resolution              0.156652  0.154204  \n",
              "Effective pixels            0.157844  0.190284  \n",
              "Zoom tele (T)               0.114075 -0.189480  \n",
              "Normal focus range          0.159605 -0.273854  \n",
              "Storage included            1.000000 -0.103046  \n",
              "Price                      -0.103046  1.000000  "
            ],
            "text/html": [
              "\n",
              "  <div id=\"df-9863c7c9-4cbc-4a13-a0e2-3131b18aeb01\" class=\"colab-df-container\">\n",
              "    <div>\n",
              "<style scoped>\n",
              "    .dataframe tbody tr th:only-of-type {\n",
              "        vertical-align: middle;\n",
              "    }\n",
              "\n",
              "    .dataframe tbody tr th {\n",
              "        vertical-align: top;\n",
              "    }\n",
              "\n",
              "    .dataframe thead th {\n",
              "        text-align: right;\n",
              "    }\n",
              "</style>\n",
              "<table border=\"1\" class=\"dataframe\">\n",
              "  <thead>\n",
              "    <tr style=\"text-align: right;\">\n",
              "      <th></th>\n",
              "      <th>Release date</th>\n",
              "      <th>Max resolution</th>\n",
              "      <th>Low resolution</th>\n",
              "      <th>Effective pixels</th>\n",
              "      <th>Zoom tele (T)</th>\n",
              "      <th>Normal focus range</th>\n",
              "      <th>Storage included</th>\n",
              "      <th>Price</th>\n",
              "    </tr>\n",
              "  </thead>\n",
              "  <tbody>\n",
              "    <tr>\n",
              "      <th>Release date</th>\n",
              "      <td>1.000000</td>\n",
              "      <td>0.788234</td>\n",
              "      <td>0.750016</td>\n",
              "      <td>0.790263</td>\n",
              "      <td>0.193020</td>\n",
              "      <td>-0.074887</td>\n",
              "      <td>0.213093</td>\n",
              "      <td>-0.022522</td>\n",
              "    </tr>\n",
              "    <tr>\n",
              "      <th>Max resolution</th>\n",
              "      <td>0.788234</td>\n",
              "      <td>1.000000</td>\n",
              "      <td>0.842790</td>\n",
              "      <td>0.953846</td>\n",
              "      <td>0.069377</td>\n",
              "      <td>-0.200449</td>\n",
              "      <td>0.166222</td>\n",
              "      <td>0.184201</td>\n",
              "    </tr>\n",
              "    <tr>\n",
              "      <th>Low resolution</th>\n",
              "      <td>0.750016</td>\n",
              "      <td>0.842790</td>\n",
              "      <td>1.000000</td>\n",
              "      <td>0.820322</td>\n",
              "      <td>0.154785</td>\n",
              "      <td>-0.125436</td>\n",
              "      <td>0.156652</td>\n",
              "      <td>0.154204</td>\n",
              "    </tr>\n",
              "    <tr>\n",
              "      <th>Effective pixels</th>\n",
              "      <td>0.790263</td>\n",
              "      <td>0.953846</td>\n",
              "      <td>0.820322</td>\n",
              "      <td>1.000000</td>\n",
              "      <td>0.084644</td>\n",
              "      <td>-0.193252</td>\n",
              "      <td>0.157844</td>\n",
              "      <td>0.190284</td>\n",
              "    </tr>\n",
              "    <tr>\n",
              "      <th>Zoom tele (T)</th>\n",
              "      <td>0.193020</td>\n",
              "      <td>0.069377</td>\n",
              "      <td>0.154785</td>\n",
              "      <td>0.084644</td>\n",
              "      <td>1.000000</td>\n",
              "      <td>0.167641</td>\n",
              "      <td>0.114075</td>\n",
              "      <td>-0.189480</td>\n",
              "    </tr>\n",
              "    <tr>\n",
              "      <th>Normal focus range</th>\n",
              "      <td>-0.074887</td>\n",
              "      <td>-0.200449</td>\n",
              "      <td>-0.125436</td>\n",
              "      <td>-0.193252</td>\n",
              "      <td>0.167641</td>\n",
              "      <td>1.000000</td>\n",
              "      <td>0.159605</td>\n",
              "      <td>-0.273854</td>\n",
              "    </tr>\n",
              "    <tr>\n",
              "      <th>Storage included</th>\n",
              "      <td>0.213093</td>\n",
              "      <td>0.166222</td>\n",
              "      <td>0.156652</td>\n",
              "      <td>0.157844</td>\n",
              "      <td>0.114075</td>\n",
              "      <td>0.159605</td>\n",
              "      <td>1.000000</td>\n",
              "      <td>-0.103046</td>\n",
              "    </tr>\n",
              "    <tr>\n",
              "      <th>Price</th>\n",
              "      <td>-0.022522</td>\n",
              "      <td>0.184201</td>\n",
              "      <td>0.154204</td>\n",
              "      <td>0.190284</td>\n",
              "      <td>-0.189480</td>\n",
              "      <td>-0.273854</td>\n",
              "      <td>-0.103046</td>\n",
              "      <td>1.000000</td>\n",
              "    </tr>\n",
              "  </tbody>\n",
              "</table>\n",
              "</div>\n",
              "    <div class=\"colab-df-buttons\">\n",
              "\n",
              "  <div class=\"colab-df-container\">\n",
              "    <button class=\"colab-df-convert\" onclick=\"convertToInteractive('df-9863c7c9-4cbc-4a13-a0e2-3131b18aeb01')\"\n",
              "            title=\"Convert this dataframe to an interactive table.\"\n",
              "            style=\"display:none;\">\n",
              "\n",
              "  <svg xmlns=\"http://www.w3.org/2000/svg\" height=\"24px\" viewBox=\"0 -960 960 960\">\n",
              "    <path d=\"M120-120v-720h720v720H120Zm60-500h600v-160H180v160Zm220 220h160v-160H400v160Zm0 220h160v-160H400v160ZM180-400h160v-160H180v160Zm440 0h160v-160H620v160ZM180-180h160v-160H180v160Zm440 0h160v-160H620v160Z\"/>\n",
              "  </svg>\n",
              "    </button>\n",
              "\n",
              "  <style>\n",
              "    .colab-df-container {\n",
              "      display:flex;\n",
              "      gap: 12px;\n",
              "    }\n",
              "\n",
              "    .colab-df-convert {\n",
              "      background-color: #E8F0FE;\n",
              "      border: none;\n",
              "      border-radius: 50%;\n",
              "      cursor: pointer;\n",
              "      display: none;\n",
              "      fill: #1967D2;\n",
              "      height: 32px;\n",
              "      padding: 0 0 0 0;\n",
              "      width: 32px;\n",
              "    }\n",
              "\n",
              "    .colab-df-convert:hover {\n",
              "      background-color: #E2EBFA;\n",
              "      box-shadow: 0px 1px 2px rgba(60, 64, 67, 0.3), 0px 1px 3px 1px rgba(60, 64, 67, 0.15);\n",
              "      fill: #174EA6;\n",
              "    }\n",
              "\n",
              "    .colab-df-buttons div {\n",
              "      margin-bottom: 4px;\n",
              "    }\n",
              "\n",
              "    [theme=dark] .colab-df-convert {\n",
              "      background-color: #3B4455;\n",
              "      fill: #D2E3FC;\n",
              "    }\n",
              "\n",
              "    [theme=dark] .colab-df-convert:hover {\n",
              "      background-color: #434B5C;\n",
              "      box-shadow: 0px 1px 3px 1px rgba(0, 0, 0, 0.15);\n",
              "      filter: drop-shadow(0px 1px 2px rgba(0, 0, 0, 0.3));\n",
              "      fill: #FFFFFF;\n",
              "    }\n",
              "  </style>\n",
              "\n",
              "    <script>\n",
              "      const buttonEl =\n",
              "        document.querySelector('#df-9863c7c9-4cbc-4a13-a0e2-3131b18aeb01 button.colab-df-convert');\n",
              "      buttonEl.style.display =\n",
              "        google.colab.kernel.accessAllowed ? 'block' : 'none';\n",
              "\n",
              "      async function convertToInteractive(key) {\n",
              "        const element = document.querySelector('#df-9863c7c9-4cbc-4a13-a0e2-3131b18aeb01');\n",
              "        const dataTable =\n",
              "          await google.colab.kernel.invokeFunction('convertToInteractive',\n",
              "                                                    [key], {});\n",
              "        if (!dataTable) return;\n",
              "\n",
              "        const docLinkHtml = 'Like what you see? Visit the ' +\n",
              "          '<a target=\"_blank\" href=https://colab.research.google.com/notebooks/data_table.ipynb>data table notebook</a>'\n",
              "          + ' to learn more about interactive tables.';\n",
              "        element.innerHTML = '';\n",
              "        dataTable['output_type'] = 'display_data';\n",
              "        await google.colab.output.renderOutput(dataTable, element);\n",
              "        const docLink = document.createElement('div');\n",
              "        docLink.innerHTML = docLinkHtml;\n",
              "        element.appendChild(docLink);\n",
              "      }\n",
              "    </script>\n",
              "  </div>\n",
              "\n",
              "\n",
              "<div id=\"df-a467ac14-e78c-4760-b878-87be972c6b6b\">\n",
              "  <button class=\"colab-df-quickchart\" onclick=\"quickchart('df-a467ac14-e78c-4760-b878-87be972c6b6b')\"\n",
              "            title=\"Suggest charts\"\n",
              "            style=\"display:none;\">\n",
              "\n",
              "<svg xmlns=\"http://www.w3.org/2000/svg\" height=\"24px\"viewBox=\"0 0 24 24\"\n",
              "     width=\"24px\">\n",
              "    <g>\n",
              "        <path d=\"M19 3H5c-1.1 0-2 .9-2 2v14c0 1.1.9 2 2 2h14c1.1 0 2-.9 2-2V5c0-1.1-.9-2-2-2zM9 17H7v-7h2v7zm4 0h-2V7h2v10zm4 0h-2v-4h2v4z\"/>\n",
              "    </g>\n",
              "</svg>\n",
              "  </button>\n",
              "\n",
              "<style>\n",
              "  .colab-df-quickchart {\n",
              "      --bg-color: #E8F0FE;\n",
              "      --fill-color: #1967D2;\n",
              "      --hover-bg-color: #E2EBFA;\n",
              "      --hover-fill-color: #174EA6;\n",
              "      --disabled-fill-color: #AAA;\n",
              "      --disabled-bg-color: #DDD;\n",
              "  }\n",
              "\n",
              "  [theme=dark] .colab-df-quickchart {\n",
              "      --bg-color: #3B4455;\n",
              "      --fill-color: #D2E3FC;\n",
              "      --hover-bg-color: #434B5C;\n",
              "      --hover-fill-color: #FFFFFF;\n",
              "      --disabled-bg-color: #3B4455;\n",
              "      --disabled-fill-color: #666;\n",
              "  }\n",
              "\n",
              "  .colab-df-quickchart {\n",
              "    background-color: var(--bg-color);\n",
              "    border: none;\n",
              "    border-radius: 50%;\n",
              "    cursor: pointer;\n",
              "    display: none;\n",
              "    fill: var(--fill-color);\n",
              "    height: 32px;\n",
              "    padding: 0;\n",
              "    width: 32px;\n",
              "  }\n",
              "\n",
              "  .colab-df-quickchart:hover {\n",
              "    background-color: var(--hover-bg-color);\n",
              "    box-shadow: 0 1px 2px rgba(60, 64, 67, 0.3), 0 1px 3px 1px rgba(60, 64, 67, 0.15);\n",
              "    fill: var(--button-hover-fill-color);\n",
              "  }\n",
              "\n",
              "  .colab-df-quickchart-complete:disabled,\n",
              "  .colab-df-quickchart-complete:disabled:hover {\n",
              "    background-color: var(--disabled-bg-color);\n",
              "    fill: var(--disabled-fill-color);\n",
              "    box-shadow: none;\n",
              "  }\n",
              "\n",
              "  .colab-df-spinner {\n",
              "    border: 2px solid var(--fill-color);\n",
              "    border-color: transparent;\n",
              "    border-bottom-color: var(--fill-color);\n",
              "    animation:\n",
              "      spin 1s steps(1) infinite;\n",
              "  }\n",
              "\n",
              "  @keyframes spin {\n",
              "    0% {\n",
              "      border-color: transparent;\n",
              "      border-bottom-color: var(--fill-color);\n",
              "      border-left-color: var(--fill-color);\n",
              "    }\n",
              "    20% {\n",
              "      border-color: transparent;\n",
              "      border-left-color: var(--fill-color);\n",
              "      border-top-color: var(--fill-color);\n",
              "    }\n",
              "    30% {\n",
              "      border-color: transparent;\n",
              "      border-left-color: var(--fill-color);\n",
              "      border-top-color: var(--fill-color);\n",
              "      border-right-color: var(--fill-color);\n",
              "    }\n",
              "    40% {\n",
              "      border-color: transparent;\n",
              "      border-right-color: var(--fill-color);\n",
              "      border-top-color: var(--fill-color);\n",
              "    }\n",
              "    60% {\n",
              "      border-color: transparent;\n",
              "      border-right-color: var(--fill-color);\n",
              "    }\n",
              "    80% {\n",
              "      border-color: transparent;\n",
              "      border-right-color: var(--fill-color);\n",
              "      border-bottom-color: var(--fill-color);\n",
              "    }\n",
              "    90% {\n",
              "      border-color: transparent;\n",
              "      border-bottom-color: var(--fill-color);\n",
              "    }\n",
              "  }\n",
              "</style>\n",
              "\n",
              "  <script>\n",
              "    async function quickchart(key) {\n",
              "      const quickchartButtonEl =\n",
              "        document.querySelector('#' + key + ' button');\n",
              "      quickchartButtonEl.disabled = true;  // To prevent multiple clicks.\n",
              "      quickchartButtonEl.classList.add('colab-df-spinner');\n",
              "      try {\n",
              "        const charts = await google.colab.kernel.invokeFunction(\n",
              "            'suggestCharts', [key], {});\n",
              "      } catch (error) {\n",
              "        console.error('Error during call to suggestCharts:', error);\n",
              "      }\n",
              "      quickchartButtonEl.classList.remove('colab-df-spinner');\n",
              "      quickchartButtonEl.classList.add('colab-df-quickchart-complete');\n",
              "    }\n",
              "    (() => {\n",
              "      let quickchartButtonEl =\n",
              "        document.querySelector('#df-a467ac14-e78c-4760-b878-87be972c6b6b button');\n",
              "      quickchartButtonEl.style.display =\n",
              "        google.colab.kernel.accessAllowed ? 'block' : 'none';\n",
              "    })();\n",
              "  </script>\n",
              "</div>\n",
              "\n",
              "  <div id=\"id_841e72d2-829b-42d9-85fb-47405e9e0be8\">\n",
              "    <style>\n",
              "      .colab-df-generate {\n",
              "        background-color: #E8F0FE;\n",
              "        border: none;\n",
              "        border-radius: 50%;\n",
              "        cursor: pointer;\n",
              "        display: none;\n",
              "        fill: #1967D2;\n",
              "        height: 32px;\n",
              "        padding: 0 0 0 0;\n",
              "        width: 32px;\n",
              "      }\n",
              "\n",
              "      .colab-df-generate:hover {\n",
              "        background-color: #E2EBFA;\n",
              "        box-shadow: 0px 1px 2px rgba(60, 64, 67, 0.3), 0px 1px 3px 1px rgba(60, 64, 67, 0.15);\n",
              "        fill: #174EA6;\n",
              "      }\n",
              "\n",
              "      [theme=dark] .colab-df-generate {\n",
              "        background-color: #3B4455;\n",
              "        fill: #D2E3FC;\n",
              "      }\n",
              "\n",
              "      [theme=dark] .colab-df-generate:hover {\n",
              "        background-color: #434B5C;\n",
              "        box-shadow: 0px 1px 3px 1px rgba(0, 0, 0, 0.15);\n",
              "        filter: drop-shadow(0px 1px 2px rgba(0, 0, 0, 0.3));\n",
              "        fill: #FFFFFF;\n",
              "      }\n",
              "    </style>\n",
              "    <button class=\"colab-df-generate\" onclick=\"generateWithVariable('correlation_matrix')\"\n",
              "            title=\"Generate code using this dataframe.\"\n",
              "            style=\"display:none;\">\n",
              "\n",
              "  <svg xmlns=\"http://www.w3.org/2000/svg\" height=\"24px\"viewBox=\"0 0 24 24\"\n",
              "       width=\"24px\">\n",
              "    <path d=\"M7,19H8.4L18.45,9,17,7.55,7,17.6ZM5,21V16.75L18.45,3.32a2,2,0,0,1,2.83,0l1.4,1.43a1.91,1.91,0,0,1,.58,1.4,1.91,1.91,0,0,1-.58,1.4L9.25,21ZM18.45,9,17,7.55Zm-12,3A5.31,5.31,0,0,0,4.9,8.1,5.31,5.31,0,0,0,1,6.5,5.31,5.31,0,0,0,4.9,4.9,5.31,5.31,0,0,0,6.5,1,5.31,5.31,0,0,0,8.1,4.9,5.31,5.31,0,0,0,12,6.5,5.46,5.46,0,0,0,6.5,12Z\"/>\n",
              "  </svg>\n",
              "    </button>\n",
              "    <script>\n",
              "      (() => {\n",
              "      const buttonEl =\n",
              "        document.querySelector('#id_841e72d2-829b-42d9-85fb-47405e9e0be8 button.colab-df-generate');\n",
              "      buttonEl.style.display =\n",
              "        google.colab.kernel.accessAllowed ? 'block' : 'none';\n",
              "\n",
              "      buttonEl.onclick = () => {\n",
              "        google.colab.notebook.generateWithVariable('correlation_matrix');\n",
              "      }\n",
              "      })();\n",
              "    </script>\n",
              "  </div>\n",
              "\n",
              "    </div>\n",
              "  </div>\n"
            ],
            "application/vnd.google.colaboratory.intrinsic+json": {
              "type": "dataframe",
              "variable_name": "correlation_matrix",
              "summary": "{\n  \"name\": \"correlation_matrix\",\n  \"rows\": 8,\n  \"fields\": [\n    {\n      \"column\": \"Release date\",\n      \"properties\": {\n        \"dtype\": \"number\",\n        \"std\": 0.42147109075150446,\n        \"min\": -0.07488686534556982,\n        \"max\": 1.0,\n        \"num_unique_values\": 8,\n        \"samples\": [\n          0.7882343813633389,\n          -0.07488686534556982,\n          1.0\n        ],\n        \"semantic_type\": \"\",\n        \"description\": \"\"\n      }\n    },\n    {\n      \"column\": \"Max resolution\",\n      \"properties\": {\n        \"dtype\": \"number\",\n        \"std\": 0.4688847274381498,\n        \"min\": -0.20044869403379176,\n        \"max\": 1.0,\n        \"num_unique_values\": 8,\n        \"samples\": [\n          1.0,\n          -0.20044869403379176,\n          0.7882343813633389\n        ],\n        \"semantic_type\": \"\",\n        \"description\": \"\"\n      }\n    },\n    {\n      \"column\": \"Low resolution\",\n      \"properties\": {\n        \"dtype\": \"number\",\n        \"std\": 0.4264170526673542,\n        \"min\": -0.12543611622804526,\n        \"max\": 1.0,\n        \"num_unique_values\": 8,\n        \"samples\": [\n          0.8427902099798615,\n          -0.12543611622804526,\n          0.7500160335347348\n        ],\n        \"semantic_type\": \"\",\n        \"description\": \"\"\n      }\n    },\n    {\n      \"column\": \"Effective pixels\",\n      \"properties\": {\n        \"dtype\": \"number\",\n        \"std\": 0.4635490866711736,\n        \"min\": -0.19325240227899124,\n        \"max\": 1.0,\n        \"num_unique_values\": 8,\n        \"samples\": [\n          0.9538458570187718,\n          -0.19325240227899124,\n          0.7902628550070872\n        ],\n        \"semantic_type\": \"\",\n        \"description\": \"\"\n      }\n    },\n    {\n      \"column\": \"Zoom tele (T)\",\n      \"properties\": {\n        \"dtype\": \"number\",\n        \"std\": 0.34487741233789754,\n        \"min\": -0.18948005456793537,\n        \"max\": 1.0,\n        \"num_unique_values\": 8,\n        \"samples\": [\n          0.06937709963328884,\n          0.16764148806613152,\n          0.19301971192906647\n        ],\n        \"semantic_type\": \"\",\n        \"description\": \"\"\n      }\n    },\n    {\n      \"column\": \"Normal focus range\",\n      \"properties\": {\n        \"dtype\": \"number\",\n        \"std\": 0.4142229178455314,\n        \"min\": -0.2738539361539971,\n        \"max\": 1.0,\n        \"num_unique_values\": 8,\n        \"samples\": [\n          -0.20044869403379176,\n          1.0,\n          -0.07488686534556982\n        ],\n        \"semantic_type\": \"\",\n        \"description\": \"\"\n      }\n    },\n    {\n      \"column\": \"Storage included\",\n      \"properties\": {\n        \"dtype\": \"number\",\n        \"std\": 0.32449494793019634,\n        \"min\": -0.10304586691960016,\n        \"max\": 1.0,\n        \"num_unique_values\": 8,\n        \"samples\": [\n          0.16622225815299574,\n          0.1596048501239731,\n          0.21309277263400075\n        ],\n        \"semantic_type\": \"\",\n        \"description\": \"\"\n      }\n    },\n    {\n      \"column\": \"Price\",\n      \"properties\": {\n        \"dtype\": \"number\",\n        \"std\": 0.3974097050500434,\n        \"min\": -0.2738539361539971,\n        \"max\": 1.0,\n        \"num_unique_values\": 8,\n        \"samples\": [\n          0.18420092652935482,\n          -0.2738539361539971,\n          -0.022522217044467677\n        ],\n        \"semantic_type\": \"\",\n        \"description\": \"\"\n      }\n    }\n  ]\n}"
            }
          },
          "metadata": {},
          "execution_count": 51
        }
      ],
      "source": [
        "correlation_matrix"
      ]
    },
    {
      "cell_type": "markdown",
      "source": [
        "**BAR PLOT**"
      ],
      "metadata": {
        "id": "KTUBSVPd0GjF"
      }
    },
    {
      "cell_type": "code",
      "execution_count": 52,
      "metadata": {
        "colab": {
          "base_uri": "https://localhost:8080/",
          "height": 600
        },
        "id": "89WKtkO6k50q",
        "outputId": "a67c0f2c-3289-43d0-c645-8d7a702d3c71"
      },
      "outputs": [
        {
          "output_type": "stream",
          "name": "stderr",
          "text": [
            "<ipython-input-52-789b0fb55264>:1: FutureWarning: \n",
            "\n",
            "Passing `palette` without assigning `hue` is deprecated and will be removed in v0.14.0. Assign the `x` variable to `hue` and set `legend=False` for the same effect.\n",
            "\n",
            "  sns.barplot(x='Release date', y='Price', data=df1, palette='Set1')\n"
          ]
        },
        {
          "output_type": "display_data",
          "data": {
            "text/plain": [
              "<Figure size 640x480 with 1 Axes>"
            ],
            "image/png": "[encoded data removed]"
          },
          "metadata": {}
        }
      ],
      "source": [
        "sns.barplot(x='Release date', y='Price', data=df1, palette='Set1')\n",
        "plt.xticks(rotation=90)\n",
        "plt.title('Bar Plot of  Release date vs Price')\n",
        "plt.show()"
      ]
    },
    {
      "cell_type": "code",
      "execution_count": 53,
      "metadata": {
        "colab": {
          "base_uri": "https://localhost:8080/"
        },
        "id": "JdArzWSJk8-k",
        "outputId": "ea3c424c-7ffd-49f6-fce0-918f662cb75c"
      },
      "outputs": [
        {
          "output_type": "stream",
          "name": "stdout",
          "text": [
            "root\n",
            " |-- Model: string (nullable = true)\n",
            " |-- Release date: integer (nullable = true)\n",
            " |-- Max resolution: integer (nullable = true)\n",
            " |-- Low resolution: integer (nullable = true)\n",
            " |-- Effective pixels: integer (nullable = true)\n",
            " |-- Zoom wide (W): integer (nullable = true)\n",
            " |-- Zoom tele (T): integer (nullable = true)\n",
            " |-- Normal focus range: integer (nullable = true)\n",
            " |-- Macro focus range: integer (nullable = true)\n",
            " |-- Storage included: integer (nullable = true)\n",
            " |-- Weight : integer (nullable = true)\n",
            " |-- Dimensions: double (nullable = true)\n",
            " |-- Price: integer (nullable = true)\n",
            "\n"
          ]
        }
      ],
      "source": [
        "df1=spark.read.csv('/content/sample_data/camera_dataset.csv',header=True,inferSchema=True)\n",
        "df1.printSchema()\n"
      ]
    },
    {
      "cell_type": "code",
      "execution_count": 54,
      "metadata": {
        "colab": {
          "base_uri": "https://localhost:8080/"
        },
        "id": "e3p5vacWlGvy",
        "outputId": "8c47d19e-ab26-406e-afaf-5bbe5efb6fea"
      },
      "outputs": [
        {
          "output_type": "stream",
          "name": "stdout",
          "text": [
            "root\n",
            " |-- Model: string (nullable = true)\n",
            " |-- Release date: integer (nullable = true)\n",
            " |-- Max resolution: integer (nullable = true)\n",
            " |-- Low resolution: integer (nullable = true)\n",
            " |-- Effective pixels: integer (nullable = true)\n",
            " |-- Zoom wide (W): integer (nullable = true)\n",
            " |-- Zoom tele (T): integer (nullable = true)\n",
            " |-- Normal focus range: integer (nullable = true)\n",
            " |-- Macro focus range: integer (nullable = true)\n",
            " |-- Storage included: integer (nullable = true)\n",
            " |-- Weight : integer (nullable = true)\n",
            " |-- Dimensions: double (nullable = true)\n",
            " |-- Price: integer (nullable = true)\n",
            "\n"
          ]
        }
      ],
      "source": [
        "from pyspark.sql.session import SparkSession\n",
        "sess=SparkSession.builder.getOrCreate()\n",
        "train=sess.read.csv('/content/sample_data/camera_dataset.csv',header=True,inferSchema = True)\n",
        "train.count()\n",
        "train.printSchema()\n",
        "\n",
        "df=train.toPandas()\n",
        "\n"
      ]
    },
    {
      "cell_type": "markdown",
      "metadata": {
        "id": "ve-2lKEUlWqa"
      },
      "source": [
        "**SCATTER PLOT**"
      ]
    },
    {
      "cell_type": "code",
      "execution_count": 55,
      "metadata": {
        "colab": {
          "base_uri": "https://localhost:8080/",
          "height": 472
        },
        "id": "VJoq7h8WlY6O",
        "outputId": "bff76345-b7aa-4373-9b2a-edcad40d62c2"
      },
      "outputs": [
        {
          "output_type": "display_data",
          "data": {
            "text/plain": [
              "<Figure size 640x480 with 1 Axes>"
            ],
            "image/png": "[encoded data removed]"
          },
          "metadata": {}
        }
      ],
      "source": [
        "import matplotlib.pyplot as plt\n",
        "df.plot(kind='scatter',\n",
        "        x='Release date',\n",
        "        y='Price',\n",
        "        color='red')\n",
        "\n",
        "# set the title\n",
        "plt.title('ScatterPlot')\n",
        "\n",
        "# show the plot\n",
        "plt.show()\n",
        "\n"
      ]
    },
    {
      "cell_type": "markdown",
      "metadata": {
        "id": "EVeC01VtoHeu"
      },
      "source": [
        "**LINE PLOT**"
      ]
    },
    {
      "cell_type": "code",
      "execution_count": 56,
      "metadata": {
        "colab": {
          "base_uri": "https://localhost:8080/",
          "height": 211
        },
        "id": "lunENLtooCQ0",
        "outputId": "3b08d40c-5555-4a73-e794-6519e66b65d6"
      },
      "outputs": [
        {
          "output_type": "error",
          "ename": "NameError",
          "evalue": "name 'ndf' is not defined",
          "traceback": [
            "\u001b[0;31m---------------------------------------------------------------------------\u001b[0m",
            "\u001b[0;31mNameError\u001b[0m                                 Traceback (most recent call last)",
            "\u001b[0;32m<ipython-input-56-9a8c9add471c>\u001b[0m in \u001b[0;36m<cell line: 1>\u001b[0;34m()\u001b[0m\n\u001b[0;32m----> 1\u001b[0;31m \u001b[0mgrp\u001b[0m\u001b[0;34m=\u001b[0m\u001b[0mndf\u001b[0m\u001b[0;34m.\u001b[0m\u001b[0mmean\u001b[0m\u001b[0;34m(\u001b[0m\u001b[0;34m)\u001b[0m\u001b[0;34m\u001b[0m\u001b[0;34m\u001b[0m\u001b[0m\n\u001b[0m\u001b[1;32m      2\u001b[0m grp.plot(kind='line', x='Release date',\n\u001b[1;32m      3\u001b[0m         \u001b[0my\u001b[0m\u001b[0;34m=\u001b[0m\u001b[0;34m'Price'\u001b[0m\u001b[0;34m,\u001b[0m\u001b[0;34m\u001b[0m\u001b[0;34m\u001b[0m\u001b[0m\n\u001b[1;32m      4\u001b[0m          label='ptratio')\n\u001b[1;32m      5\u001b[0m \u001b[0;34m\u001b[0m\u001b[0m\n",
            "\u001b[0;31mNameError\u001b[0m: name 'ndf' is not defined"
          ]
        }
      ],
      "source": [
        "grp=ndf.mean()\n",
        "grp.plot(kind='line', x='Release date',\n",
        "        y='Price',\n",
        "         label='ptratio')\n",
        "\n",
        "# set the title\n",
        "plt.title('LinePlots')\n",
        "\n",
        "plt.legend(loc='best')\n",
        "plt.show()\n"
      ]
    },
    {
      "cell_type": "markdown",
      "metadata": {
        "id": "_Bet2dTIlwTa"
      },
      "source": [
        "**BOX PLOT**"
      ]
    },
    {
      "cell_type": "code",
      "execution_count": null,
      "metadata": {
        "id": "HlB2orSBlzMY"
      },
      "outputs": [],
      "source": [
        "df.boxplot(column=['Release date','Price'])\n",
        "plt.show()"
      ]
    },
    {
      "cell_type": "markdown",
      "metadata": {
        "id": "3-0xZ8MGl570"
      },
      "source": [
        "**CORRELATION HEATMAP**"
      ]
    },
    {
      "cell_type": "code",
      "execution_count": null,
      "metadata": {
        "id": "vKju8RaSl3lu"
      },
      "outputs": [],
      "source": [
        "df_pd = df1.toPandas()\n",
        "\n",
        "# Create a heatmap for correlation matrix\n",
        "plt.figure(figsize=(10, 8))\n",
        "sns.heatmap(correlation_matrix, annot=True, cmap='viridis', fmt=\".2f\", linewidths=.5)\n",
        "plt.title('Correlation Heatmap')\n",
        "plt.show()"
      ]
    }
  ],
  "metadata": {
    "accelerator": "GPU",
    "colab": {
      "gpuType": "T4",
      "provenance": []
    },
    "kernelspec": {
      "display_name": "Python 3",
      "name": "python3"
    },
    "language_info": {
      "name": "python"
    }
  },
  "nbformat": 4,
  "nbformat_minor": 0
}